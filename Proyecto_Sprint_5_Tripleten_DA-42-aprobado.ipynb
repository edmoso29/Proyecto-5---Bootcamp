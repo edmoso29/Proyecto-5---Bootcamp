{
 "cells": [
  {
   "cell_type": "markdown",
   "metadata": {},
   "source": [
    "¡Hola, Edgar!\n",
    "\n",
    "Mi nombre es Tonatiuh Cruz. Me complace revisar tu proyecto hoy.\n",
    "\n",
    "Al identificar cualquier error inicialmente, simplemente los destacaré. Te animo a localizar y abordar los problemas de forma independiente como parte de tu preparación para un rol como data-analyst. En un entorno profesional, tu líder de equipo seguiría un enfoque similar. Si encuentras la tarea desafiante, proporcionaré una pista más específica en la próxima iteración.\n",
    "\n",
    "Encontrarás mis comentarios a continuación - **por favor no los muevas, modifiques o elimines**.\n",
    "\n",
    "Puedes encontrar mis comentarios en cajas verdes, amarillas o rojas como esta:\n",
    "\n",
    "<div class=\"alert alert-block alert-success\">\n",
    "<b>Comentario del revisor</b> <a class=\"tocSkip\"></a>\n",
    "\n",
    "Éxito. Todo está hecho correctamente.\n",
    "</div>\n",
    "\n",
    "<div class=\"alert alert-block alert-warning\">\n",
    "<b>Comentario del revisor</b> <a class=\"tocSkip\"></a>\n",
    "\n",
    "Observaciones. Algunas recomendaciones.\n",
    "</div>\n",
    "\n",
    "<div class=\"alert alert-block alert-danger\">\n",
    "<b>Comentario del revisor</b> <a class=\"tocSkip\"></a>\n",
    "\n",
    "Necesita corrección. El bloque requiere algunas correcciones. El trabajo no puede ser aceptado con comentarios en rojo.\n",
    "</div>\n",
    "\n",
    "Puedes responderme utilizando esto:\n",
    "\n",
    "<div class=\"alert alert-block alert-info\">\n",
    "<b>Respuesta del estudiante.</b> <a class=\"tocSkip\"></a>"
   ]
  },
  {
   "cell_type": "markdown",
   "metadata": {},
   "source": [
    "<div class=\"alert alert-block alert-success\">\n",
    "<b>Resumen de la revisión 1</b> <a class=\"tocSkip\"></a>\n",
    "\n",
    "Hola Edgar! Has hecho un excelente trabajo con el proyecto, cada vez más cercas de convertirte en un analista de datos. Realizaste la carga de bases, su análisis inicial, sus ajustes, un análisis de algunos variables conmplementado con gráficas y el desarrollo de las pruebas d ehipótesis. Solamente te dejo algunos comentarios para complementar el análisis. \n",
    "\n",
    "Sigue con el excelente trabajo!\n",
    "</div>"
   ]
  },
  {
   "cell_type": "markdown",
   "metadata": {
    "id": "3rYiDeEH0q0f"
   },
   "source": [
    "# ¿Cuál es la mejor tarifa?\n",
    "\n",
    "Trabajas como analista para el operador de telecomunicaciones Megaline. La empresa ofrece a sus clientes dos tarifas de prepago, Surf y Ultimate. El departamento comercial quiere saber cuál de las tarifas genera más ingresos para poder ajustar el presupuesto de publicidad.\n",
    "\n",
    "Vas a realizar un análisis preliminar de las tarifas basado en una selección de clientes relativamente pequeña. Tendrás los datos de 500 clientes de Megaline: quiénes son los clientes, de dónde son, qué tarifa usan, así como la cantidad de llamadas que hicieron y los mensajes de texto que enviaron en 2018. Tu trabajo es analizar el comportamiento de los clientes y determinar qué tarifa de prepago genera más ingresos."
   ]
  },
  {
   "cell_type": "markdown",
   "metadata": {
    "id": "VNddPNRQ0q0w"
   },
   "source": [
    "[Te proporcionamos algunos comentarios para orientarte mientras completas este proyecto. Pero debes asegurarte de eliminar todos los comentarios entre corchetes antes de entregar tu proyecto.]\n",
    "\n",
    "[Antes de sumergirte en el análisis de datos, explica por tu propia cuenta el propósito del proyecto y las acciones que planeas realizar.]\n",
    "\n",
    "[Ten en cuenta que estudiar, modificar y analizar datos es un proceso iterativo. Es normal volver a los pasos anteriores y corregirlos/ampliarlos para permitir nuevos pasos.]"
   ]
  },
  {
   "cell_type": "markdown",
   "metadata": {
    "id": "MQi4IPy70q0y"
   },
   "source": [
    "## Inicialización"
   ]
  },
  {
   "cell_type": "code",
   "execution_count": 1,
   "metadata": {
    "id": "MtYIuBxu0q0z"
   },
   "outputs": [],
   "source": [
    "import pandas as pd\n",
    "import numpy as np\n",
    "from matplotlib import pyplot as plt\n",
    "import seaborn as sns\n",
    "from math import factorial\n",
    "from scipy import stats as st"
   ]
  },
  {
   "cell_type": "markdown",
   "metadata": {},
   "source": [
    "<div class=\"alert alert-block alert-success\">\n",
    "<b>Comentario revisor</b> <a class=\"tocSkip\"></a>\n",
    "\n",
    "\n",
    "Gran trabajo con la carga de la libreria math. De esta manera, puedes realizar redondeos con otros métodos. \n",
    "</div>"
   ]
  },
  {
   "cell_type": "markdown",
   "metadata": {
    "id": "4ysWWC5i0q00"
   },
   "source": [
    "## Cargar datos"
   ]
  },
  {
   "cell_type": "code",
   "execution_count": 2,
   "metadata": {
    "id": "CCqPW7rS0q01",
    "scrolled": true
   },
   "outputs": [],
   "source": [
    "# Carga los archivos de datos en diferentes DataFrames\n",
    "users = pd.read_csv('/datasets/megaline_users.csv')\n",
    "calls = pd.read_csv('/datasets/megaline_calls.csv')\n",
    "messages = pd.read_csv('/datasets/megaline_messages.csv')\n",
    "internet = pd.read_csv('/datasets/megaline_internet.csv')\n",
    "plans = pd.read_csv('/datasets/megaline_plans.csv')"
   ]
  },
  {
   "cell_type": "markdown",
   "metadata": {
    "id": "69qqoJ3r0q01"
   },
   "source": [
    "## Preparar los datos"
   ]
  },
  {
   "cell_type": "markdown",
   "metadata": {
    "id": "vUuZw80S0q01"
   },
   "source": [
    "[Los datos para este proyecto se dividen en varias tablas. Explora cada una para tener una comprensión inicial de los datos. Si es necesario, haz las correcciones requeridas en cada tabla.]"
   ]
  },
  {
   "cell_type": "markdown",
   "metadata": {
    "id": "ohBhimvH0q01"
   },
   "source": [
    "## Tarifas"
   ]
  },
  {
   "cell_type": "code",
   "execution_count": 3,
   "metadata": {
    "id": "GptqP3Q40q02"
   },
   "outputs": [
    {
     "name": "stdout",
     "output_type": "stream",
     "text": [
      "<class 'pandas.core.frame.DataFrame'>\n",
      "RangeIndex: 2 entries, 0 to 1\n",
      "Data columns (total 8 columns):\n",
      " #   Column                 Non-Null Count  Dtype  \n",
      "---  ------                 --------------  -----  \n",
      " 0   messages_included      2 non-null      int64  \n",
      " 1   mb_per_month_included  2 non-null      int64  \n",
      " 2   minutes_included       2 non-null      int64  \n",
      " 3   usd_monthly_pay        2 non-null      int64  \n",
      " 4   usd_per_gb             2 non-null      int64  \n",
      " 5   usd_per_message        2 non-null      float64\n",
      " 6   usd_per_minute         2 non-null      float64\n",
      " 7   plan_name              2 non-null      object \n",
      "dtypes: float64(2), int64(5), object(1)\n",
      "memory usage: 256.0+ bytes\n"
     ]
    }
   ],
   "source": [
    "# Imprime la información general/resumida sobre el DataFrame de las tarifas\n",
    "plans.info()"
   ]
  },
  {
   "cell_type": "code",
   "execution_count": 4,
   "metadata": {
    "id": "64xzjwL70q02"
   },
   "outputs": [
    {
     "data": {
      "text/html": [
       "<div>\n",
       "<style scoped>\n",
       "    .dataframe tbody tr th:only-of-type {\n",
       "        vertical-align: middle;\n",
       "    }\n",
       "\n",
       "    .dataframe tbody tr th {\n",
       "        vertical-align: top;\n",
       "    }\n",
       "\n",
       "    .dataframe thead th {\n",
       "        text-align: right;\n",
       "    }\n",
       "</style>\n",
       "<table border=\"1\" class=\"dataframe\">\n",
       "  <thead>\n",
       "    <tr style=\"text-align: right;\">\n",
       "      <th></th>\n",
       "      <th>messages_included</th>\n",
       "      <th>mb_per_month_included</th>\n",
       "      <th>minutes_included</th>\n",
       "      <th>usd_monthly_pay</th>\n",
       "      <th>usd_per_gb</th>\n",
       "      <th>usd_per_message</th>\n",
       "      <th>usd_per_minute</th>\n",
       "      <th>plan_name</th>\n",
       "    </tr>\n",
       "  </thead>\n",
       "  <tbody>\n",
       "    <tr>\n",
       "      <th>0</th>\n",
       "      <td>50</td>\n",
       "      <td>15360</td>\n",
       "      <td>500</td>\n",
       "      <td>20</td>\n",
       "      <td>10</td>\n",
       "      <td>0.03</td>\n",
       "      <td>0.03</td>\n",
       "      <td>surf</td>\n",
       "    </tr>\n",
       "    <tr>\n",
       "      <th>1</th>\n",
       "      <td>1000</td>\n",
       "      <td>30720</td>\n",
       "      <td>3000</td>\n",
       "      <td>70</td>\n",
       "      <td>7</td>\n",
       "      <td>0.01</td>\n",
       "      <td>0.01</td>\n",
       "      <td>ultimate</td>\n",
       "    </tr>\n",
       "  </tbody>\n",
       "</table>\n",
       "</div>"
      ],
      "text/plain": [
       "   messages_included  mb_per_month_included  minutes_included  \\\n",
       "0                 50                  15360               500   \n",
       "1               1000                  30720              3000   \n",
       "\n",
       "   usd_monthly_pay  usd_per_gb  usd_per_message  usd_per_minute plan_name  \n",
       "0               20          10             0.03            0.03      surf  \n",
       "1               70           7             0.01            0.01  ultimate  "
      ]
     },
     "execution_count": 4,
     "metadata": {},
     "output_type": "execute_result"
    }
   ],
   "source": [
    "# Imprime una muestra de los datos para las tarifas\n",
    "plans.head()\n"
   ]
  },
  {
   "cell_type": "markdown",
   "metadata": {
    "id": "mEc_3_hs0q02"
   },
   "source": [
    "[Describe lo que ves y observas en la información general y en la muestra de datos impresa para el precio de datos anterior. ¿Hay algún problema (tipos de datos no adecuados, datos ausentes, etc.) que pudieran necesitar investigación y cambios adicionales? ¿Cómo se puede arreglar?]\n",
    "\n",
    "**Respuesta:** Observo que el orden de las columnas es distinto al esperado en las indicaciones del proyecto, además de que una de las columnas tiene un nombre ligeramente distinto al esperado, por lo que procederé a cambiarlo."
   ]
  },
  {
   "cell_type": "markdown",
   "metadata": {
    "id": "R3C05i1l0q03"
   },
   "source": [
    "## Corregir datos"
   ]
  },
  {
   "cell_type": "markdown",
   "metadata": {
    "id": "bIi8StZI0q03"
   },
   "source": [
    "[Corrige los problemas obvios con los datos basándote en las observaciones iniciales.]"
   ]
  },
  {
   "cell_type": "code",
   "execution_count": 5,
   "metadata": {
    "id": "Y7SVmjGn0q03"
   },
   "outputs": [
    {
     "data": {
      "text/html": [
       "<div>\n",
       "<style scoped>\n",
       "    .dataframe tbody tr th:only-of-type {\n",
       "        vertical-align: middle;\n",
       "    }\n",
       "\n",
       "    .dataframe tbody tr th {\n",
       "        vertical-align: top;\n",
       "    }\n",
       "\n",
       "    .dataframe thead th {\n",
       "        text-align: right;\n",
       "    }\n",
       "</style>\n",
       "<table border=\"1\" class=\"dataframe\">\n",
       "  <thead>\n",
       "    <tr style=\"text-align: right;\">\n",
       "      <th></th>\n",
       "      <th>plan_name</th>\n",
       "      <th>usd_monthly_fee</th>\n",
       "      <th>minutes_included</th>\n",
       "      <th>messages_included</th>\n",
       "      <th>mb_per_month_included</th>\n",
       "      <th>usd_per_minute</th>\n",
       "      <th>usd_per_message</th>\n",
       "      <th>usd_per_gb</th>\n",
       "    </tr>\n",
       "  </thead>\n",
       "  <tbody>\n",
       "    <tr>\n",
       "      <th>0</th>\n",
       "      <td>surf</td>\n",
       "      <td>20</td>\n",
       "      <td>500</td>\n",
       "      <td>50</td>\n",
       "      <td>15360</td>\n",
       "      <td>0.03</td>\n",
       "      <td>0.03</td>\n",
       "      <td>10</td>\n",
       "    </tr>\n",
       "    <tr>\n",
       "      <th>1</th>\n",
       "      <td>ultimate</td>\n",
       "      <td>70</td>\n",
       "      <td>3000</td>\n",
       "      <td>1000</td>\n",
       "      <td>30720</td>\n",
       "      <td>0.01</td>\n",
       "      <td>0.01</td>\n",
       "      <td>7</td>\n",
       "    </tr>\n",
       "  </tbody>\n",
       "</table>\n",
       "</div>"
      ],
      "text/plain": [
       "  plan_name  usd_monthly_fee  minutes_included  messages_included  \\\n",
       "0      surf               20               500                 50   \n",
       "1  ultimate               70              3000               1000   \n",
       "\n",
       "   mb_per_month_included  usd_per_minute  usd_per_message  usd_per_gb  \n",
       "0                  15360            0.03             0.03          10  \n",
       "1                  30720            0.01             0.01           7  "
      ]
     },
     "execution_count": 5,
     "metadata": {},
     "output_type": "execute_result"
    }
   ],
   "source": [
    "new_columns_order = ['plan_name', 'usd_monthly_pay', 'minutes_included', 'messages_included', 'mb_per_month_included', 'usd_per_minute', 'usd_per_message', 'usd_per_gb']\n",
    "plans_clean = plans[new_columns_order]\n",
    "new_columns_name = {'usd_monthly_pay':'usd_monthly_fee'}\n",
    "plans_clean.rename(columns = new_columns_name, inplace = True)\n",
    "plans_clean.head()"
   ]
  },
  {
   "cell_type": "markdown",
   "metadata": {
    "id": "LJir7bml0q03"
   },
   "source": [
    "#### Enriquecer los datos"
   ]
  },
  {
   "cell_type": "markdown",
   "metadata": {
    "id": "eqADpCfg0q04"
   },
   "source": [
    "<div class=\"alert alert-block alert-info\">\n",
    "<b>Respuesta:</b>\n",
    "\n",
    "Al momento de realizar cálculos, es probable que necesite realizar la conversión de megabytes a gigabytes dividiendo la cantidad de megabytes entre 1024.<a class=\"tocSkip\"></a>"
   ]
  },
  {
   "cell_type": "markdown",
   "metadata": {
    "id": "gfcIEuXV0q04"
   },
   "source": [
    "\n",
    "<div class=\"alert alert-block alert-warning\">\n",
    "<b>Comentario Revisor</b> <a class=\"tocSkip\"></a>\n",
    "\n",
    "Muy buen trabajo, solamente te sugiero que en este apartado menciones un poco sobre la transformación que se debe realizar de megabytes a gigabytes. \n",
    "</div>"
   ]
  },
  {
   "cell_type": "markdown",
   "metadata": {},
   "source": [
    "<div class=\"alert alert-block alert-success\">\n",
    "<b>Comentario del revisor</b> <a class=\"tocSkip\"></a>\n",
    "\n",
    "Gran trabajo con el ajuste!"
   ]
  },
  {
   "cell_type": "markdown",
   "metadata": {
    "id": "1n2X6WXf0q04"
   },
   "source": [
    "## Usuarios/as"
   ]
  },
  {
   "cell_type": "code",
   "execution_count": 6,
   "metadata": {
    "id": "2NgjWFqx0q05"
   },
   "outputs": [
    {
     "name": "stdout",
     "output_type": "stream",
     "text": [
      "<class 'pandas.core.frame.DataFrame'>\n",
      "RangeIndex: 500 entries, 0 to 499\n",
      "Data columns (total 8 columns):\n",
      " #   Column      Non-Null Count  Dtype \n",
      "---  ------      --------------  ----- \n",
      " 0   user_id     500 non-null    int64 \n",
      " 1   first_name  500 non-null    object\n",
      " 2   last_name   500 non-null    object\n",
      " 3   age         500 non-null    int64 \n",
      " 4   city        500 non-null    object\n",
      " 5   reg_date    500 non-null    object\n",
      " 6   plan        500 non-null    object\n",
      " 7   churn_date  34 non-null     object\n",
      "dtypes: int64(2), object(6)\n",
      "memory usage: 31.4+ KB\n"
     ]
    }
   ],
   "source": [
    "# Imprime la información general/resumida sobre el DataFrame de usuarios\n",
    "users.info()\n"
   ]
  },
  {
   "cell_type": "code",
   "execution_count": 7,
   "metadata": {
    "id": "1IN1L9uh0q05"
   },
   "outputs": [
    {
     "data": {
      "text/html": [
       "<div>\n",
       "<style scoped>\n",
       "    .dataframe tbody tr th:only-of-type {\n",
       "        vertical-align: middle;\n",
       "    }\n",
       "\n",
       "    .dataframe tbody tr th {\n",
       "        vertical-align: top;\n",
       "    }\n",
       "\n",
       "    .dataframe thead th {\n",
       "        text-align: right;\n",
       "    }\n",
       "</style>\n",
       "<table border=\"1\" class=\"dataframe\">\n",
       "  <thead>\n",
       "    <tr style=\"text-align: right;\">\n",
       "      <th></th>\n",
       "      <th>user_id</th>\n",
       "      <th>first_name</th>\n",
       "      <th>last_name</th>\n",
       "      <th>age</th>\n",
       "      <th>city</th>\n",
       "      <th>reg_date</th>\n",
       "      <th>plan</th>\n",
       "      <th>churn_date</th>\n",
       "    </tr>\n",
       "  </thead>\n",
       "  <tbody>\n",
       "    <tr>\n",
       "      <th>0</th>\n",
       "      <td>1000</td>\n",
       "      <td>Anamaria</td>\n",
       "      <td>Bauer</td>\n",
       "      <td>45</td>\n",
       "      <td>Atlanta-Sandy Springs-Roswell, GA MSA</td>\n",
       "      <td>2018-12-24</td>\n",
       "      <td>ultimate</td>\n",
       "      <td>NaN</td>\n",
       "    </tr>\n",
       "    <tr>\n",
       "      <th>1</th>\n",
       "      <td>1001</td>\n",
       "      <td>Mickey</td>\n",
       "      <td>Wilkerson</td>\n",
       "      <td>28</td>\n",
       "      <td>Seattle-Tacoma-Bellevue, WA MSA</td>\n",
       "      <td>2018-08-13</td>\n",
       "      <td>surf</td>\n",
       "      <td>NaN</td>\n",
       "    </tr>\n",
       "    <tr>\n",
       "      <th>2</th>\n",
       "      <td>1002</td>\n",
       "      <td>Carlee</td>\n",
       "      <td>Hoffman</td>\n",
       "      <td>36</td>\n",
       "      <td>Las Vegas-Henderson-Paradise, NV MSA</td>\n",
       "      <td>2018-10-21</td>\n",
       "      <td>surf</td>\n",
       "      <td>NaN</td>\n",
       "    </tr>\n",
       "    <tr>\n",
       "      <th>3</th>\n",
       "      <td>1003</td>\n",
       "      <td>Reynaldo</td>\n",
       "      <td>Jenkins</td>\n",
       "      <td>52</td>\n",
       "      <td>Tulsa, OK MSA</td>\n",
       "      <td>2018-01-28</td>\n",
       "      <td>surf</td>\n",
       "      <td>NaN</td>\n",
       "    </tr>\n",
       "    <tr>\n",
       "      <th>4</th>\n",
       "      <td>1004</td>\n",
       "      <td>Leonila</td>\n",
       "      <td>Thompson</td>\n",
       "      <td>40</td>\n",
       "      <td>Seattle-Tacoma-Bellevue, WA MSA</td>\n",
       "      <td>2018-05-23</td>\n",
       "      <td>surf</td>\n",
       "      <td>NaN</td>\n",
       "    </tr>\n",
       "    <tr>\n",
       "      <th>5</th>\n",
       "      <td>1005</td>\n",
       "      <td>Livia</td>\n",
       "      <td>Shields</td>\n",
       "      <td>31</td>\n",
       "      <td>Dallas-Fort Worth-Arlington, TX MSA</td>\n",
       "      <td>2018-11-29</td>\n",
       "      <td>surf</td>\n",
       "      <td>NaN</td>\n",
       "    </tr>\n",
       "    <tr>\n",
       "      <th>6</th>\n",
       "      <td>1006</td>\n",
       "      <td>Jesusa</td>\n",
       "      <td>Bradford</td>\n",
       "      <td>73</td>\n",
       "      <td>San Francisco-Oakland-Berkeley, CA MSA</td>\n",
       "      <td>2018-11-27</td>\n",
       "      <td>ultimate</td>\n",
       "      <td>2018-12-18</td>\n",
       "    </tr>\n",
       "    <tr>\n",
       "      <th>7</th>\n",
       "      <td>1007</td>\n",
       "      <td>Eusebio</td>\n",
       "      <td>Welch</td>\n",
       "      <td>42</td>\n",
       "      <td>Grand Rapids-Kentwood, MI MSA</td>\n",
       "      <td>2018-07-11</td>\n",
       "      <td>surf</td>\n",
       "      <td>NaN</td>\n",
       "    </tr>\n",
       "    <tr>\n",
       "      <th>8</th>\n",
       "      <td>1008</td>\n",
       "      <td>Emely</td>\n",
       "      <td>Hoffman</td>\n",
       "      <td>53</td>\n",
       "      <td>Orlando-Kissimmee-Sanford, FL MSA</td>\n",
       "      <td>2018-08-03</td>\n",
       "      <td>ultimate</td>\n",
       "      <td>NaN</td>\n",
       "    </tr>\n",
       "    <tr>\n",
       "      <th>9</th>\n",
       "      <td>1009</td>\n",
       "      <td>Gerry</td>\n",
       "      <td>Little</td>\n",
       "      <td>19</td>\n",
       "      <td>San Jose-Sunnyvale-Santa Clara, CA MSA</td>\n",
       "      <td>2018-04-22</td>\n",
       "      <td>surf</td>\n",
       "      <td>NaN</td>\n",
       "    </tr>\n",
       "  </tbody>\n",
       "</table>\n",
       "</div>"
      ],
      "text/plain": [
       "   user_id first_name  last_name  age                                    city  \\\n",
       "0     1000   Anamaria      Bauer   45   Atlanta-Sandy Springs-Roswell, GA MSA   \n",
       "1     1001     Mickey  Wilkerson   28         Seattle-Tacoma-Bellevue, WA MSA   \n",
       "2     1002     Carlee    Hoffman   36    Las Vegas-Henderson-Paradise, NV MSA   \n",
       "3     1003   Reynaldo    Jenkins   52                           Tulsa, OK MSA   \n",
       "4     1004    Leonila   Thompson   40         Seattle-Tacoma-Bellevue, WA MSA   \n",
       "5     1005      Livia    Shields   31     Dallas-Fort Worth-Arlington, TX MSA   \n",
       "6     1006     Jesusa   Bradford   73  San Francisco-Oakland-Berkeley, CA MSA   \n",
       "7     1007    Eusebio      Welch   42           Grand Rapids-Kentwood, MI MSA   \n",
       "8     1008      Emely    Hoffman   53       Orlando-Kissimmee-Sanford, FL MSA   \n",
       "9     1009      Gerry     Little   19  San Jose-Sunnyvale-Santa Clara, CA MSA   \n",
       "\n",
       "     reg_date      plan  churn_date  \n",
       "0  2018-12-24  ultimate         NaN  \n",
       "1  2018-08-13      surf         NaN  \n",
       "2  2018-10-21      surf         NaN  \n",
       "3  2018-01-28      surf         NaN  \n",
       "4  2018-05-23      surf         NaN  \n",
       "5  2018-11-29      surf         NaN  \n",
       "6  2018-11-27  ultimate  2018-12-18  \n",
       "7  2018-07-11      surf         NaN  \n",
       "8  2018-08-03  ultimate         NaN  \n",
       "9  2018-04-22      surf         NaN  "
      ]
     },
     "execution_count": 7,
     "metadata": {},
     "output_type": "execute_result"
    }
   ],
   "source": [
    "# Imprime una muestra de datos para usuarios\n",
    "users.head(10)\n"
   ]
  },
  {
   "cell_type": "markdown",
   "metadata": {
    "id": "dCZoUq4f0q06"
   },
   "source": [
    "[Describe lo que ves y observas en la información general y en la muestra de datos impresa para el precio de datos anterior. ¿Hay algún problema (tipos de datos no adecuados, datos ausentes, etc.) que pudieran necesitar investigación y cambios adicionales? ¿Cómo se puede arreglar?]\n",
    "\n",
    "**Respuesta:** Hay varios tipos de datos incorrectos, procederemos a corregirlos. Los datos NaN en la columna *churn_date*, considero que no requieren de una corrección dado que este es justo el dato esperado cuando la tarifa se estaba usando cuando fue extraída esta base de datos."
   ]
  },
  {
   "cell_type": "markdown",
   "metadata": {
    "id": "BX5FQh_I0q06"
   },
   "source": [
    "### Corregir los datos"
   ]
  },
  {
   "cell_type": "markdown",
   "metadata": {
    "id": "8OdKMwJv0q06"
   },
   "source": [
    "[Corrige los problemas obvios con los datos basándote en las observaciones iniciales.]"
   ]
  },
  {
   "cell_type": "code",
   "execution_count": 8,
   "metadata": {
    "id": "yUqX-K0C0q07"
   },
   "outputs": [
    {
     "name": "stdout",
     "output_type": "stream",
     "text": [
      "<class 'pandas.core.frame.DataFrame'>\n",
      "RangeIndex: 500 entries, 0 to 499\n",
      "Data columns (total 8 columns):\n",
      " #   Column      Non-Null Count  Dtype         \n",
      "---  ------      --------------  -----         \n",
      " 0   user_id     500 non-null    object        \n",
      " 1   first_name  500 non-null    object        \n",
      " 2   last_name   500 non-null    object        \n",
      " 3   age         500 non-null    int64         \n",
      " 4   city        500 non-null    object        \n",
      " 5   reg_date    500 non-null    datetime64[ns]\n",
      " 6   plan        500 non-null    object        \n",
      " 7   churn_date  34 non-null     datetime64[ns]\n",
      "dtypes: datetime64[ns](2), int64(1), object(5)\n",
      "memory usage: 31.4+ KB\n"
     ]
    }
   ],
   "source": [
    "users['user_id'] = users['user_id'].astype('str')\n",
    "users['reg_date'] = pd.to_datetime(users['reg_date'], format = '%Y-%m-%d')\n",
    "users['churn_date'] = pd.to_datetime(users['churn_date'], format = '%Y-%m-%d')\n",
    "users.info()"
   ]
  },
  {
   "cell_type": "markdown",
   "metadata": {
    "id": "ycwuARJp0q07"
   },
   "source": [
    "### Enriquecer los datos"
   ]
  },
  {
   "cell_type": "markdown",
   "metadata": {
    "id": "96NIh4CJ0q08"
   },
   "source": [
    "[Agrega factores adicionales a los datos si crees que pudieran ser útiles.]"
   ]
  },
  {
   "cell_type": "code",
   "execution_count": null,
   "metadata": {
    "id": "iq0AaBS90q08"
   },
   "outputs": [],
   "source": []
  },
  {
   "cell_type": "markdown",
   "metadata": {
    "id": "o7MeKCid0q08"
   },
   "source": [
    "## Llamadas"
   ]
  },
  {
   "cell_type": "code",
   "execution_count": 9,
   "metadata": {
    "id": "6dDlnoDm0q08"
   },
   "outputs": [
    {
     "name": "stdout",
     "output_type": "stream",
     "text": [
      "<class 'pandas.core.frame.DataFrame'>\n",
      "RangeIndex: 137735 entries, 0 to 137734\n",
      "Data columns (total 4 columns):\n",
      " #   Column     Non-Null Count   Dtype  \n",
      "---  ------     --------------   -----  \n",
      " 0   id         137735 non-null  object \n",
      " 1   user_id    137735 non-null  int64  \n",
      " 2   call_date  137735 non-null  object \n",
      " 3   duration   137735 non-null  float64\n",
      "dtypes: float64(1), int64(1), object(2)\n",
      "memory usage: 4.2+ MB\n"
     ]
    }
   ],
   "source": [
    "# Imprime la información general/resumida sobre el DataFrame de las llamadas\n",
    "calls.info()\n"
   ]
  },
  {
   "cell_type": "code",
   "execution_count": 10,
   "metadata": {
    "id": "kuh1vlNB0q09"
   },
   "outputs": [
    {
     "data": {
      "text/html": [
       "<div>\n",
       "<style scoped>\n",
       "    .dataframe tbody tr th:only-of-type {\n",
       "        vertical-align: middle;\n",
       "    }\n",
       "\n",
       "    .dataframe tbody tr th {\n",
       "        vertical-align: top;\n",
       "    }\n",
       "\n",
       "    .dataframe thead th {\n",
       "        text-align: right;\n",
       "    }\n",
       "</style>\n",
       "<table border=\"1\" class=\"dataframe\">\n",
       "  <thead>\n",
       "    <tr style=\"text-align: right;\">\n",
       "      <th></th>\n",
       "      <th>id</th>\n",
       "      <th>user_id</th>\n",
       "      <th>call_date</th>\n",
       "      <th>duration</th>\n",
       "    </tr>\n",
       "  </thead>\n",
       "  <tbody>\n",
       "    <tr>\n",
       "      <th>0</th>\n",
       "      <td>1000_93</td>\n",
       "      <td>1000</td>\n",
       "      <td>2018-12-27</td>\n",
       "      <td>8.52</td>\n",
       "    </tr>\n",
       "    <tr>\n",
       "      <th>1</th>\n",
       "      <td>1000_145</td>\n",
       "      <td>1000</td>\n",
       "      <td>2018-12-27</td>\n",
       "      <td>13.66</td>\n",
       "    </tr>\n",
       "    <tr>\n",
       "      <th>2</th>\n",
       "      <td>1000_247</td>\n",
       "      <td>1000</td>\n",
       "      <td>2018-12-27</td>\n",
       "      <td>14.48</td>\n",
       "    </tr>\n",
       "    <tr>\n",
       "      <th>3</th>\n",
       "      <td>1000_309</td>\n",
       "      <td>1000</td>\n",
       "      <td>2018-12-28</td>\n",
       "      <td>5.76</td>\n",
       "    </tr>\n",
       "    <tr>\n",
       "      <th>4</th>\n",
       "      <td>1000_380</td>\n",
       "      <td>1000</td>\n",
       "      <td>2018-12-30</td>\n",
       "      <td>4.22</td>\n",
       "    </tr>\n",
       "    <tr>\n",
       "      <th>5</th>\n",
       "      <td>1000_388</td>\n",
       "      <td>1000</td>\n",
       "      <td>2018-12-31</td>\n",
       "      <td>2.20</td>\n",
       "    </tr>\n",
       "    <tr>\n",
       "      <th>6</th>\n",
       "      <td>1000_510</td>\n",
       "      <td>1000</td>\n",
       "      <td>2018-12-27</td>\n",
       "      <td>5.75</td>\n",
       "    </tr>\n",
       "    <tr>\n",
       "      <th>7</th>\n",
       "      <td>1000_521</td>\n",
       "      <td>1000</td>\n",
       "      <td>2018-12-28</td>\n",
       "      <td>14.18</td>\n",
       "    </tr>\n",
       "    <tr>\n",
       "      <th>8</th>\n",
       "      <td>1000_530</td>\n",
       "      <td>1000</td>\n",
       "      <td>2018-12-28</td>\n",
       "      <td>5.77</td>\n",
       "    </tr>\n",
       "    <tr>\n",
       "      <th>9</th>\n",
       "      <td>1000_544</td>\n",
       "      <td>1000</td>\n",
       "      <td>2018-12-26</td>\n",
       "      <td>4.40</td>\n",
       "    </tr>\n",
       "    <tr>\n",
       "      <th>10</th>\n",
       "      <td>1000_693</td>\n",
       "      <td>1000</td>\n",
       "      <td>2018-12-31</td>\n",
       "      <td>4.31</td>\n",
       "    </tr>\n",
       "    <tr>\n",
       "      <th>11</th>\n",
       "      <td>1000_705</td>\n",
       "      <td>1000</td>\n",
       "      <td>2018-12-31</td>\n",
       "      <td>12.78</td>\n",
       "    </tr>\n",
       "    <tr>\n",
       "      <th>12</th>\n",
       "      <td>1000_735</td>\n",
       "      <td>1000</td>\n",
       "      <td>2018-12-29</td>\n",
       "      <td>1.70</td>\n",
       "    </tr>\n",
       "    <tr>\n",
       "      <th>13</th>\n",
       "      <td>1000_778</td>\n",
       "      <td>1000</td>\n",
       "      <td>2018-12-28</td>\n",
       "      <td>3.29</td>\n",
       "    </tr>\n",
       "    <tr>\n",
       "      <th>14</th>\n",
       "      <td>1000_826</td>\n",
       "      <td>1000</td>\n",
       "      <td>2018-12-26</td>\n",
       "      <td>9.96</td>\n",
       "    </tr>\n",
       "    <tr>\n",
       "      <th>15</th>\n",
       "      <td>1000_842</td>\n",
       "      <td>1000</td>\n",
       "      <td>2018-12-27</td>\n",
       "      <td>5.85</td>\n",
       "    </tr>\n",
       "    <tr>\n",
       "      <th>16</th>\n",
       "      <td>1001_0</td>\n",
       "      <td>1001</td>\n",
       "      <td>2018-09-06</td>\n",
       "      <td>10.06</td>\n",
       "    </tr>\n",
       "    <tr>\n",
       "      <th>17</th>\n",
       "      <td>1001_1</td>\n",
       "      <td>1001</td>\n",
       "      <td>2018-10-12</td>\n",
       "      <td>1.00</td>\n",
       "    </tr>\n",
       "    <tr>\n",
       "      <th>18</th>\n",
       "      <td>1001_2</td>\n",
       "      <td>1001</td>\n",
       "      <td>2018-10-17</td>\n",
       "      <td>15.83</td>\n",
       "    </tr>\n",
       "    <tr>\n",
       "      <th>19</th>\n",
       "      <td>1001_4</td>\n",
       "      <td>1001</td>\n",
       "      <td>2018-12-05</td>\n",
       "      <td>0.00</td>\n",
       "    </tr>\n",
       "  </tbody>\n",
       "</table>\n",
       "</div>"
      ],
      "text/plain": [
       "          id  user_id   call_date  duration\n",
       "0    1000_93     1000  2018-12-27      8.52\n",
       "1   1000_145     1000  2018-12-27     13.66\n",
       "2   1000_247     1000  2018-12-27     14.48\n",
       "3   1000_309     1000  2018-12-28      5.76\n",
       "4   1000_380     1000  2018-12-30      4.22\n",
       "5   1000_388     1000  2018-12-31      2.20\n",
       "6   1000_510     1000  2018-12-27      5.75\n",
       "7   1000_521     1000  2018-12-28     14.18\n",
       "8   1000_530     1000  2018-12-28      5.77\n",
       "9   1000_544     1000  2018-12-26      4.40\n",
       "10  1000_693     1000  2018-12-31      4.31\n",
       "11  1000_705     1000  2018-12-31     12.78\n",
       "12  1000_735     1000  2018-12-29      1.70\n",
       "13  1000_778     1000  2018-12-28      3.29\n",
       "14  1000_826     1000  2018-12-26      9.96\n",
       "15  1000_842     1000  2018-12-27      5.85\n",
       "16    1001_0     1001  2018-09-06     10.06\n",
       "17    1001_1     1001  2018-10-12      1.00\n",
       "18    1001_2     1001  2018-10-17     15.83\n",
       "19    1001_4     1001  2018-12-05      0.00"
      ]
     },
     "execution_count": 10,
     "metadata": {},
     "output_type": "execute_result"
    }
   ],
   "source": [
    "# Imprime una muestra de datos para las llamadas\n",
    "calls.head(20)"
   ]
  },
  {
   "cell_type": "markdown",
   "metadata": {
    "id": "DOAxYJSx0q09"
   },
   "source": [
    "[Describe lo que ves y observas en la información general y en la muestra de datos impresa para el precio de datos anterior. ¿Hay algún problema (tipos de datos no adecuados, datos ausentes, etc.) que pudieran necesitar investigación y cambios adicionales? ¿Cómo se puede arreglar?]\n",
    "\n",
    "**Respuesta:** Hay varios tipos de datos incorrectos, procederemos a corregirlos."
   ]
  },
  {
   "cell_type": "markdown",
   "metadata": {
    "id": "S7hzxmbX0q0-"
   },
   "source": [
    "### Corregir los datos"
   ]
  },
  {
   "cell_type": "markdown",
   "metadata": {
    "id": "YxWyAjD20q0-"
   },
   "source": [
    "[Corrige los problemas obvios con los datos basándote en las observaciones iniciales.]"
   ]
  },
  {
   "cell_type": "code",
   "execution_count": 11,
   "metadata": {
    "id": "S2r8xA4f0q0-"
   },
   "outputs": [
    {
     "name": "stdout",
     "output_type": "stream",
     "text": [
      "<class 'pandas.core.frame.DataFrame'>\n",
      "RangeIndex: 137735 entries, 0 to 137734\n",
      "Data columns (total 4 columns):\n",
      " #   Column     Non-Null Count   Dtype         \n",
      "---  ------     --------------   -----         \n",
      " 0   id         137735 non-null  object        \n",
      " 1   user_id    137735 non-null  object        \n",
      " 2   call_date  137735 non-null  datetime64[ns]\n",
      " 3   duration   137735 non-null  float64       \n",
      "dtypes: datetime64[ns](1), float64(1), object(2)\n",
      "memory usage: 4.2+ MB\n"
     ]
    }
   ],
   "source": [
    "calls['user_id'] = calls['user_id'].astype('str')\n",
    "calls['call_date'] = pd.to_datetime(calls['call_date'], format = '%Y-%m-%d')\n",
    "calls['duration'] = np.ceil(calls['duration'])\n",
    "calls.info()"
   ]
  },
  {
   "cell_type": "markdown",
   "metadata": {},
   "source": [
    "<div class=\"alert alert-block alert-info\">\n",
    "<b>Comentario:</b>\n",
    "\n",
    "Se agrega redondeo con np.ceil().<a class=\"tocSkip\"></a>"
   ]
  },
  {
   "cell_type": "markdown",
   "metadata": {},
   "source": [
    "<div class=\"alert alert-block alert-success\">\n",
    "<b>Comentario del revisor</b> <a class=\"tocSkip\"></a>\n",
    "\n",
    "Gran trabajo con el ajuste!"
   ]
  },
  {
   "cell_type": "markdown",
   "metadata": {
    "id": "KrMgTrlG0q0_"
   },
   "source": [
    "### Enriquecer los datos"
   ]
  },
  {
   "cell_type": "markdown",
   "metadata": {
    "id": "a9MbmEvE0q0_"
   },
   "source": [
    "[Agrega factores adicionales a los datos si crees que pudieran ser útiles.]"
   ]
  },
  {
   "cell_type": "code",
   "execution_count": 12,
   "metadata": {
    "id": "iZ1avpA_0q0_"
   },
   "outputs": [
    {
     "name": "stdout",
     "output_type": "stream",
     "text": [
      "<class 'pandas.core.frame.DataFrame'>\n",
      "RangeIndex: 137735 entries, 0 to 137734\n",
      "Data columns (total 5 columns):\n",
      " #   Column     Non-Null Count   Dtype         \n",
      "---  ------     --------------   -----         \n",
      " 0   id         137735 non-null  object        \n",
      " 1   user_id    137735 non-null  object        \n",
      " 2   call_date  137735 non-null  datetime64[ns]\n",
      " 3   duration   137735 non-null  float64       \n",
      " 4   month      137735 non-null  int64         \n",
      "dtypes: datetime64[ns](1), float64(1), int64(1), object(2)\n",
      "memory usage: 5.3+ MB\n"
     ]
    }
   ],
   "source": [
    "calls['month'] = calls['call_date'].dt.month\n",
    "calls.info()"
   ]
  },
  {
   "cell_type": "markdown",
   "metadata": {},
   "source": [
    "<div class=\"alert alert-block alert-warning\">\n",
    "<b>Comentario Revisor</b> <a class=\"tocSkip\"></a>\n",
    "\n",
    "Qué podríamos decir hasta el momento de las llamadas que tienen una duración de 0?\n",
    "</div>"
   ]
  },
  {
   "cell_type": "markdown",
   "metadata": {},
   "source": [
    "<div class=\"alert alert-block alert-info\">\n",
    "<b>Respuesta:</b>\n",
    "\n",
    "Las llamadas con duración de 0 son aquellas en las que el usuario realizó una llamada pero no hubo respuesta de la persona que llamaron.<a class=\"tocSkip\"></a>"
   ]
  },
  {
   "cell_type": "markdown",
   "metadata": {},
   "source": [
    "<div class=\"alert alert-block alert-success\">\n",
    "<b>Comentario del revisor</b> <a class=\"tocSkip\"></a>\n",
    "\n",
    "Gran trabajo con el ajuste!"
   ]
  },
  {
   "cell_type": "markdown",
   "metadata": {
    "id": "mOUZSi180q0_"
   },
   "source": [
    "## Mensajes"
   ]
  },
  {
   "cell_type": "code",
   "execution_count": 13,
   "metadata": {
    "id": "R-bYJpdV0q1A"
   },
   "outputs": [
    {
     "name": "stdout",
     "output_type": "stream",
     "text": [
      "<class 'pandas.core.frame.DataFrame'>\n",
      "RangeIndex: 76051 entries, 0 to 76050\n",
      "Data columns (total 3 columns):\n",
      " #   Column        Non-Null Count  Dtype \n",
      "---  ------        --------------  ----- \n",
      " 0   id            76051 non-null  object\n",
      " 1   user_id       76051 non-null  int64 \n",
      " 2   message_date  76051 non-null  object\n",
      "dtypes: int64(1), object(2)\n",
      "memory usage: 1.7+ MB\n"
     ]
    }
   ],
   "source": [
    "# Imprime la información general/resumida sobre el DataFrame de los mensajes\n",
    "messages.info()\n"
   ]
  },
  {
   "cell_type": "code",
   "execution_count": 14,
   "metadata": {
    "id": "mCEl2iGE0q1A"
   },
   "outputs": [
    {
     "data": {
      "text/html": [
       "<div>\n",
       "<style scoped>\n",
       "    .dataframe tbody tr th:only-of-type {\n",
       "        vertical-align: middle;\n",
       "    }\n",
       "\n",
       "    .dataframe tbody tr th {\n",
       "        vertical-align: top;\n",
       "    }\n",
       "\n",
       "    .dataframe thead th {\n",
       "        text-align: right;\n",
       "    }\n",
       "</style>\n",
       "<table border=\"1\" class=\"dataframe\">\n",
       "  <thead>\n",
       "    <tr style=\"text-align: right;\">\n",
       "      <th></th>\n",
       "      <th>id</th>\n",
       "      <th>user_id</th>\n",
       "      <th>message_date</th>\n",
       "    </tr>\n",
       "  </thead>\n",
       "  <tbody>\n",
       "    <tr>\n",
       "      <th>0</th>\n",
       "      <td>1000_125</td>\n",
       "      <td>1000</td>\n",
       "      <td>2018-12-27</td>\n",
       "    </tr>\n",
       "    <tr>\n",
       "      <th>1</th>\n",
       "      <td>1000_160</td>\n",
       "      <td>1000</td>\n",
       "      <td>2018-12-31</td>\n",
       "    </tr>\n",
       "    <tr>\n",
       "      <th>2</th>\n",
       "      <td>1000_223</td>\n",
       "      <td>1000</td>\n",
       "      <td>2018-12-31</td>\n",
       "    </tr>\n",
       "    <tr>\n",
       "      <th>3</th>\n",
       "      <td>1000_251</td>\n",
       "      <td>1000</td>\n",
       "      <td>2018-12-27</td>\n",
       "    </tr>\n",
       "    <tr>\n",
       "      <th>4</th>\n",
       "      <td>1000_255</td>\n",
       "      <td>1000</td>\n",
       "      <td>2018-12-26</td>\n",
       "    </tr>\n",
       "    <tr>\n",
       "      <th>5</th>\n",
       "      <td>1000_346</td>\n",
       "      <td>1000</td>\n",
       "      <td>2018-12-29</td>\n",
       "    </tr>\n",
       "    <tr>\n",
       "      <th>6</th>\n",
       "      <td>1000_386</td>\n",
       "      <td>1000</td>\n",
       "      <td>2018-12-30</td>\n",
       "    </tr>\n",
       "    <tr>\n",
       "      <th>7</th>\n",
       "      <td>1000_413</td>\n",
       "      <td>1000</td>\n",
       "      <td>2018-12-31</td>\n",
       "    </tr>\n",
       "    <tr>\n",
       "      <th>8</th>\n",
       "      <td>1000_502</td>\n",
       "      <td>1000</td>\n",
       "      <td>2018-12-27</td>\n",
       "    </tr>\n",
       "    <tr>\n",
       "      <th>9</th>\n",
       "      <td>1000_525</td>\n",
       "      <td>1000</td>\n",
       "      <td>2018-12-28</td>\n",
       "    </tr>\n",
       "  </tbody>\n",
       "</table>\n",
       "</div>"
      ],
      "text/plain": [
       "         id  user_id message_date\n",
       "0  1000_125     1000   2018-12-27\n",
       "1  1000_160     1000   2018-12-31\n",
       "2  1000_223     1000   2018-12-31\n",
       "3  1000_251     1000   2018-12-27\n",
       "4  1000_255     1000   2018-12-26\n",
       "5  1000_346     1000   2018-12-29\n",
       "6  1000_386     1000   2018-12-30\n",
       "7  1000_413     1000   2018-12-31\n",
       "8  1000_502     1000   2018-12-27\n",
       "9  1000_525     1000   2018-12-28"
      ]
     },
     "execution_count": 14,
     "metadata": {},
     "output_type": "execute_result"
    }
   ],
   "source": [
    "# Imprime una muestra de datos para los mensajes\n",
    "messages.head(10)\n"
   ]
  },
  {
   "cell_type": "markdown",
   "metadata": {
    "id": "04xDj7KH0q1A"
   },
   "source": [
    "[Describe lo que ves y observas en la información general y en la muestra de datos impresa para el precio de datos anterior. ¿Hay algún problema (tipos de datos no adecuados, datos ausentes, etc.) que pudieran necesitar investigación y cambios adicionales? ¿Cómo se puede arreglar?]\n",
    "\n",
    "**Respuesta:** Hay varios tipos de datos incorrectos, procederemos a corregirlos."
   ]
  },
  {
   "cell_type": "markdown",
   "metadata": {
    "id": "Sprfak900q1B"
   },
   "source": [
    "### Corregir los datos"
   ]
  },
  {
   "cell_type": "markdown",
   "metadata": {
    "id": "eGw7d9j10q1B"
   },
   "source": [
    "[Corrige los problemas obvios con los datos basándote en las observaciones iniciales.]"
   ]
  },
  {
   "cell_type": "code",
   "execution_count": 15,
   "metadata": {
    "id": "vsllvkoa0q1B",
    "scrolled": true
   },
   "outputs": [
    {
     "name": "stdout",
     "output_type": "stream",
     "text": [
      "<class 'pandas.core.frame.DataFrame'>\n",
      "RangeIndex: 76051 entries, 0 to 76050\n",
      "Data columns (total 3 columns):\n",
      " #   Column        Non-Null Count  Dtype         \n",
      "---  ------        --------------  -----         \n",
      " 0   id            76051 non-null  object        \n",
      " 1   user_id       76051 non-null  object        \n",
      " 2   message_date  76051 non-null  datetime64[ns]\n",
      "dtypes: datetime64[ns](1), object(2)\n",
      "memory usage: 1.7+ MB\n"
     ]
    }
   ],
   "source": [
    "messages['user_id'] = messages['user_id'].astype('str')\n",
    "messages['message_date'] = pd.to_datetime(messages['message_date'], format = '%Y-%m-%d')\n",
    "messages.info()"
   ]
  },
  {
   "cell_type": "markdown",
   "metadata": {
    "id": "HvLid7iD0q1B"
   },
   "source": [
    "### Enriquecer los datos"
   ]
  },
  {
   "cell_type": "markdown",
   "metadata": {
    "id": "8nhPFKIe0q1C"
   },
   "source": [
    "[Agrega factores adicionales a los datos si crees que pudieran ser útiles.]"
   ]
  },
  {
   "cell_type": "code",
   "execution_count": 16,
   "metadata": {
    "id": "zYEXZac10q1C"
   },
   "outputs": [
    {
     "name": "stdout",
     "output_type": "stream",
     "text": [
      "<class 'pandas.core.frame.DataFrame'>\n",
      "RangeIndex: 76051 entries, 0 to 76050\n",
      "Data columns (total 4 columns):\n",
      " #   Column        Non-Null Count  Dtype         \n",
      "---  ------        --------------  -----         \n",
      " 0   id            76051 non-null  object        \n",
      " 1   user_id       76051 non-null  object        \n",
      " 2   message_date  76051 non-null  datetime64[ns]\n",
      " 3   month         76051 non-null  int64         \n",
      "dtypes: datetime64[ns](1), int64(1), object(2)\n",
      "memory usage: 2.3+ MB\n"
     ]
    }
   ],
   "source": [
    "messages['month'] = messages['message_date'].dt.month\n",
    "messages.info()"
   ]
  },
  {
   "cell_type": "markdown",
   "metadata": {
    "id": "bStkaxn40q1C"
   },
   "source": [
    "## Internet"
   ]
  },
  {
   "cell_type": "code",
   "execution_count": 17,
   "metadata": {
    "id": "e-Uz5qyn0q1C"
   },
   "outputs": [
    {
     "name": "stdout",
     "output_type": "stream",
     "text": [
      "<class 'pandas.core.frame.DataFrame'>\n",
      "RangeIndex: 104825 entries, 0 to 104824\n",
      "Data columns (total 4 columns):\n",
      " #   Column        Non-Null Count   Dtype  \n",
      "---  ------        --------------   -----  \n",
      " 0   id            104825 non-null  object \n",
      " 1   user_id       104825 non-null  int64  \n",
      " 2   session_date  104825 non-null  object \n",
      " 3   mb_used       104825 non-null  float64\n",
      "dtypes: float64(1), int64(1), object(2)\n",
      "memory usage: 3.2+ MB\n"
     ]
    }
   ],
   "source": [
    "# Imprime la información general/resumida sobre el DataFrame de internet\n",
    "internet.info()\n"
   ]
  },
  {
   "cell_type": "code",
   "execution_count": 18,
   "metadata": {
    "id": "9r3x_XLw0q1C"
   },
   "outputs": [
    {
     "data": {
      "text/html": [
       "<div>\n",
       "<style scoped>\n",
       "    .dataframe tbody tr th:only-of-type {\n",
       "        vertical-align: middle;\n",
       "    }\n",
       "\n",
       "    .dataframe tbody tr th {\n",
       "        vertical-align: top;\n",
       "    }\n",
       "\n",
       "    .dataframe thead th {\n",
       "        text-align: right;\n",
       "    }\n",
       "</style>\n",
       "<table border=\"1\" class=\"dataframe\">\n",
       "  <thead>\n",
       "    <tr style=\"text-align: right;\">\n",
       "      <th></th>\n",
       "      <th>id</th>\n",
       "      <th>user_id</th>\n",
       "      <th>session_date</th>\n",
       "      <th>mb_used</th>\n",
       "    </tr>\n",
       "  </thead>\n",
       "  <tbody>\n",
       "    <tr>\n",
       "      <th>0</th>\n",
       "      <td>1000_13</td>\n",
       "      <td>1000</td>\n",
       "      <td>2018-12-29</td>\n",
       "      <td>89.86</td>\n",
       "    </tr>\n",
       "    <tr>\n",
       "      <th>1</th>\n",
       "      <td>1000_204</td>\n",
       "      <td>1000</td>\n",
       "      <td>2018-12-31</td>\n",
       "      <td>0.00</td>\n",
       "    </tr>\n",
       "    <tr>\n",
       "      <th>2</th>\n",
       "      <td>1000_379</td>\n",
       "      <td>1000</td>\n",
       "      <td>2018-12-28</td>\n",
       "      <td>660.40</td>\n",
       "    </tr>\n",
       "    <tr>\n",
       "      <th>3</th>\n",
       "      <td>1000_413</td>\n",
       "      <td>1000</td>\n",
       "      <td>2018-12-26</td>\n",
       "      <td>270.99</td>\n",
       "    </tr>\n",
       "    <tr>\n",
       "      <th>4</th>\n",
       "      <td>1000_442</td>\n",
       "      <td>1000</td>\n",
       "      <td>2018-12-27</td>\n",
       "      <td>880.22</td>\n",
       "    </tr>\n",
       "    <tr>\n",
       "      <th>5</th>\n",
       "      <td>1001_0</td>\n",
       "      <td>1001</td>\n",
       "      <td>2018-08-24</td>\n",
       "      <td>284.68</td>\n",
       "    </tr>\n",
       "    <tr>\n",
       "      <th>6</th>\n",
       "      <td>1001_3</td>\n",
       "      <td>1001</td>\n",
       "      <td>2018-12-09</td>\n",
       "      <td>656.04</td>\n",
       "    </tr>\n",
       "    <tr>\n",
       "      <th>7</th>\n",
       "      <td>1001_4</td>\n",
       "      <td>1001</td>\n",
       "      <td>2018-11-04</td>\n",
       "      <td>16.97</td>\n",
       "    </tr>\n",
       "    <tr>\n",
       "      <th>8</th>\n",
       "      <td>1001_10</td>\n",
       "      <td>1001</td>\n",
       "      <td>2018-11-27</td>\n",
       "      <td>135.18</td>\n",
       "    </tr>\n",
       "    <tr>\n",
       "      <th>9</th>\n",
       "      <td>1001_15</td>\n",
       "      <td>1001</td>\n",
       "      <td>2018-12-13</td>\n",
       "      <td>761.92</td>\n",
       "    </tr>\n",
       "    <tr>\n",
       "      <th>10</th>\n",
       "      <td>1001_16</td>\n",
       "      <td>1001</td>\n",
       "      <td>2018-10-28</td>\n",
       "      <td>501.53</td>\n",
       "    </tr>\n",
       "    <tr>\n",
       "      <th>11</th>\n",
       "      <td>1001_17</td>\n",
       "      <td>1001</td>\n",
       "      <td>2018-09-05</td>\n",
       "      <td>727.29</td>\n",
       "    </tr>\n",
       "    <tr>\n",
       "      <th>12</th>\n",
       "      <td>1001_24</td>\n",
       "      <td>1001</td>\n",
       "      <td>2018-09-05</td>\n",
       "      <td>622.03</td>\n",
       "    </tr>\n",
       "    <tr>\n",
       "      <th>13</th>\n",
       "      <td>1001_25</td>\n",
       "      <td>1001</td>\n",
       "      <td>2018-10-14</td>\n",
       "      <td>310.43</td>\n",
       "    </tr>\n",
       "    <tr>\n",
       "      <th>14</th>\n",
       "      <td>1001_26</td>\n",
       "      <td>1001</td>\n",
       "      <td>2018-09-17</td>\n",
       "      <td>0.00</td>\n",
       "    </tr>\n",
       "    <tr>\n",
       "      <th>15</th>\n",
       "      <td>1001_27</td>\n",
       "      <td>1001</td>\n",
       "      <td>2018-12-13</td>\n",
       "      <td>149.17</td>\n",
       "    </tr>\n",
       "    <tr>\n",
       "      <th>16</th>\n",
       "      <td>1001_28</td>\n",
       "      <td>1001</td>\n",
       "      <td>2018-10-17</td>\n",
       "      <td>0.00</td>\n",
       "    </tr>\n",
       "    <tr>\n",
       "      <th>17</th>\n",
       "      <td>1001_29</td>\n",
       "      <td>1001</td>\n",
       "      <td>2018-10-09</td>\n",
       "      <td>1067.99</td>\n",
       "    </tr>\n",
       "    <tr>\n",
       "      <th>18</th>\n",
       "      <td>1001_30</td>\n",
       "      <td>1001</td>\n",
       "      <td>2018-12-27</td>\n",
       "      <td>157.20</td>\n",
       "    </tr>\n",
       "    <tr>\n",
       "      <th>19</th>\n",
       "      <td>1001_33</td>\n",
       "      <td>1001</td>\n",
       "      <td>2018-09-27</td>\n",
       "      <td>236.40</td>\n",
       "    </tr>\n",
       "  </tbody>\n",
       "</table>\n",
       "</div>"
      ],
      "text/plain": [
       "          id  user_id session_date  mb_used\n",
       "0    1000_13     1000   2018-12-29    89.86\n",
       "1   1000_204     1000   2018-12-31     0.00\n",
       "2   1000_379     1000   2018-12-28   660.40\n",
       "3   1000_413     1000   2018-12-26   270.99\n",
       "4   1000_442     1000   2018-12-27   880.22\n",
       "5     1001_0     1001   2018-08-24   284.68\n",
       "6     1001_3     1001   2018-12-09   656.04\n",
       "7     1001_4     1001   2018-11-04    16.97\n",
       "8    1001_10     1001   2018-11-27   135.18\n",
       "9    1001_15     1001   2018-12-13   761.92\n",
       "10   1001_16     1001   2018-10-28   501.53\n",
       "11   1001_17     1001   2018-09-05   727.29\n",
       "12   1001_24     1001   2018-09-05   622.03\n",
       "13   1001_25     1001   2018-10-14   310.43\n",
       "14   1001_26     1001   2018-09-17     0.00\n",
       "15   1001_27     1001   2018-12-13   149.17\n",
       "16   1001_28     1001   2018-10-17     0.00\n",
       "17   1001_29     1001   2018-10-09  1067.99\n",
       "18   1001_30     1001   2018-12-27   157.20\n",
       "19   1001_33     1001   2018-09-27   236.40"
      ]
     },
     "execution_count": 18,
     "metadata": {},
     "output_type": "execute_result"
    }
   ],
   "source": [
    "# Imprime una muestra de datos para el tráfico de internet\n",
    "internet.head(20)\n"
   ]
  },
  {
   "cell_type": "markdown",
   "metadata": {
    "id": "EzOG5ik30q1D"
   },
   "source": [
    "[Describe lo que ves y observas en la información general y en la muestra de datos impresa para el precio de datos anterior. ¿Hay algún problema (tipos de datos no adecuados, datos ausentes, etc.) que pudieran necesitar investigación y cambios adicionales? ¿Cómo se puede arreglar?]\n",
    "\n",
    "**Respuesta:** Hay varios tipos de datos incorrectos, procederemos a corregirlos."
   ]
  },
  {
   "cell_type": "markdown",
   "metadata": {
    "id": "yA0tkPFg0q1D"
   },
   "source": [
    "### Corregir los datos"
   ]
  },
  {
   "cell_type": "markdown",
   "metadata": {
    "id": "zlZMuIEK0q1D"
   },
   "source": [
    "[Corrige los problemas obvios con los datos basándote en las observaciones iniciales.]"
   ]
  },
  {
   "cell_type": "code",
   "execution_count": 19,
   "metadata": {
    "id": "zVeanzdd0q1E"
   },
   "outputs": [
    {
     "name": "stdout",
     "output_type": "stream",
     "text": [
      "<class 'pandas.core.frame.DataFrame'>\n",
      "RangeIndex: 104825 entries, 0 to 104824\n",
      "Data columns (total 4 columns):\n",
      " #   Column        Non-Null Count   Dtype         \n",
      "---  ------        --------------   -----         \n",
      " 0   id            104825 non-null  object        \n",
      " 1   user_id       104825 non-null  object        \n",
      " 2   session_date  104825 non-null  datetime64[ns]\n",
      " 3   mb_used       104825 non-null  float64       \n",
      "dtypes: datetime64[ns](1), float64(1), object(2)\n",
      "memory usage: 3.2+ MB\n"
     ]
    }
   ],
   "source": [
    "internet['user_id'] = internet['user_id'].astype('str')\n",
    "internet['session_date'] = pd.to_datetime(internet['session_date'], format = '%Y-%m-%d')\n",
    "internet['mb_used'] = np.ceil(internet['mb_used'])\n",
    "internet.info()"
   ]
  },
  {
   "cell_type": "markdown",
   "metadata": {},
   "source": [
    "<div class=\"alert alert-block alert-info\">\n",
    "<b>Comentario:</b>\n",
    "\n",
    "Se agrega redondeo con np.ceil().<a class=\"tocSkip\"></a>"
   ]
  },
  {
   "cell_type": "markdown",
   "metadata": {
    "id": "e8_mLF4a0q1E"
   },
   "source": [
    "### Enriquecer los datos"
   ]
  },
  {
   "cell_type": "markdown",
   "metadata": {
    "id": "xhNdn2tE0q1E"
   },
   "source": [
    "[Agrega factores adicionales a los datos si crees que pudieran ser útiles.]"
   ]
  },
  {
   "cell_type": "code",
   "execution_count": 20,
   "metadata": {
    "id": "ESiYPIEK0q1E"
   },
   "outputs": [
    {
     "name": "stdout",
     "output_type": "stream",
     "text": [
      "<class 'pandas.core.frame.DataFrame'>\n",
      "RangeIndex: 76051 entries, 0 to 76050\n",
      "Data columns (total 4 columns):\n",
      " #   Column        Non-Null Count  Dtype         \n",
      "---  ------        --------------  -----         \n",
      " 0   id            76051 non-null  object        \n",
      " 1   user_id       76051 non-null  object        \n",
      " 2   message_date  76051 non-null  datetime64[ns]\n",
      " 3   month         76051 non-null  int64         \n",
      "dtypes: datetime64[ns](1), int64(1), object(2)\n",
      "memory usage: 2.3+ MB\n"
     ]
    }
   ],
   "source": [
    "internet['month'] = internet['session_date'].dt.month\n",
    "messages.info()"
   ]
  },
  {
   "cell_type": "markdown",
   "metadata": {},
   "source": [
    "<div class=\"alert alert-block alert-warning\">\n",
    "<b>Comentario revisor</b> <a class=\"tocSkip\"></a>\n",
    "\n",
    "\n",
    "Te recomiendo solamente comentar que cuando agrupemos los datos vamos a tener que redondear hacia arriba lo valores de la transformación de mbegabyter a gigabyte, para este ejercicio debemos hacer el redondeo superior dado que se cobra el costo extra en cuanto se pasa de los límites.Por lo que es necesario hacer la transformación de mb a gb y después hacer el redondeo.  \n",
    "</div>"
   ]
  },
  {
   "cell_type": "markdown",
   "metadata": {},
   "source": [
    "<div class=\"alert alert-block alert-info\">\n",
    "<b>Respuesta:</b>\n",
    "\n",
    "En el dataframe \"calls\" ya redondeé la duración de la llamada y en el de \"internet\" he redondeado los megabytes, de igual modo dejé los comentarios correspondientes por favor revisar si quedó bien.<a class=\"tocSkip\"></a>"
   ]
  },
  {
   "cell_type": "markdown",
   "metadata": {},
   "source": [
    "<div class=\"alert alert-block alert-success\">\n",
    "<b>Comentario del revisor</b> <a class=\"tocSkip\"></a>\n",
    "\n",
    "Gran trabajo con el ajuste!"
   ]
  },
  {
   "cell_type": "markdown",
   "metadata": {
    "id": "3UA2cqIW0q1E"
   },
   "source": [
    "## Estudiar las condiciones de las tarifas"
   ]
  },
  {
   "cell_type": "markdown",
   "metadata": {
    "id": "T86Sqltq0q1F"
   },
   "source": [
    "[Es sumamente importante entender cómo funcionan las tarifas, cómo se les cobra a los usuarios en función de su plan de suscripción. Así que te sugerimos imprimir la información de la tarifa para ver una vez más sus condiciones.]"
   ]
  },
  {
   "cell_type": "code",
   "execution_count": 21,
   "metadata": {
    "id": "i409op8p0q1F"
   },
   "outputs": [
    {
     "data": {
      "text/html": [
       "<div>\n",
       "<style scoped>\n",
       "    .dataframe tbody tr th:only-of-type {\n",
       "        vertical-align: middle;\n",
       "    }\n",
       "\n",
       "    .dataframe tbody tr th {\n",
       "        vertical-align: top;\n",
       "    }\n",
       "\n",
       "    .dataframe thead th {\n",
       "        text-align: right;\n",
       "    }\n",
       "</style>\n",
       "<table border=\"1\" class=\"dataframe\">\n",
       "  <thead>\n",
       "    <tr style=\"text-align: right;\">\n",
       "      <th></th>\n",
       "      <th>plan_name</th>\n",
       "      <th>usd_monthly_fee</th>\n",
       "      <th>minutes_included</th>\n",
       "      <th>messages_included</th>\n",
       "      <th>mb_per_month_included</th>\n",
       "      <th>usd_per_minute</th>\n",
       "      <th>usd_per_message</th>\n",
       "      <th>usd_per_gb</th>\n",
       "    </tr>\n",
       "  </thead>\n",
       "  <tbody>\n",
       "    <tr>\n",
       "      <th>0</th>\n",
       "      <td>surf</td>\n",
       "      <td>20</td>\n",
       "      <td>500</td>\n",
       "      <td>50</td>\n",
       "      <td>15360</td>\n",
       "      <td>0.03</td>\n",
       "      <td>0.03</td>\n",
       "      <td>10</td>\n",
       "    </tr>\n",
       "    <tr>\n",
       "      <th>1</th>\n",
       "      <td>ultimate</td>\n",
       "      <td>70</td>\n",
       "      <td>3000</td>\n",
       "      <td>1000</td>\n",
       "      <td>30720</td>\n",
       "      <td>0.01</td>\n",
       "      <td>0.01</td>\n",
       "      <td>7</td>\n",
       "    </tr>\n",
       "  </tbody>\n",
       "</table>\n",
       "</div>"
      ],
      "text/plain": [
       "  plan_name  usd_monthly_fee  minutes_included  messages_included  \\\n",
       "0      surf               20               500                 50   \n",
       "1  ultimate               70              3000               1000   \n",
       "\n",
       "   mb_per_month_included  usd_per_minute  usd_per_message  usd_per_gb  \n",
       "0                  15360            0.03             0.03          10  \n",
       "1                  30720            0.01             0.01           7  "
      ]
     },
     "execution_count": 21,
     "metadata": {},
     "output_type": "execute_result"
    }
   ],
   "source": [
    "# Imprime las condiciones de la tarifa y asegúrate de que te quedan claras\n",
    "plans_clean.head()\n"
   ]
  },
  {
   "cell_type": "markdown",
   "metadata": {
    "id": "hMR1tP5d0q1F"
   },
   "source": [
    "## Agregar datos por usuario\n",
    "\n",
    "[Ahora que los datos están limpios, agrega los datos por usuario y por periodo para que solo haya un registro por usuario y por periodo. Esto facilitará mucho el análisis posterior.]"
   ]
  },
  {
   "cell_type": "code",
   "execution_count": 22,
   "metadata": {
    "id": "A332cedB0q1G"
   },
   "outputs": [
    {
     "name": "stdout",
     "output_type": "stream",
     "text": [
      "     user_id  month  call_count\n",
      "0       1000     12          16\n",
      "1       1001      8          27\n",
      "2       1001      9          49\n",
      "3       1001     10          65\n",
      "4       1001     11          64\n",
      "...      ...    ...         ...\n",
      "2253    1498     12          39\n",
      "2254    1499      9          41\n",
      "2255    1499     10          53\n",
      "2256    1499     11          45\n",
      "2257    1499     12          65\n",
      "\n",
      "[2258 rows x 3 columns]\n"
     ]
    }
   ],
   "source": [
    "# Calcula el número de llamadas hechas por cada usuario al mes. Guarda el resultado.\n",
    "calls_by_user_per_month = calls.groupby(['user_id', 'month'])['id'].count().reset_index()\n",
    "calls_by_user_per_month.rename(columns={'id': 'call_count'}, inplace=True)\n",
    "print(calls_by_user_per_month)"
   ]
  },
  {
   "cell_type": "markdown",
   "metadata": {},
   "source": [
    "\n",
    "<div class=\"alert alert-block alert-warning\">\n",
    "\n",
    "<b>Comentario revisor</b> <a class=\"tocSkip\"></a>\n",
    "\n",
    "Si bien es correcta la forma de agrupar para sacar la duración de las llamadas por cada ususario, para proximas ocasiones puedes hacer uso de la siguiente forma:\n",
    "    \n",
    "    pivot_calls = calls.pivot_table(index=['user_id', 'month'],\n",
    "                                values=['duration'],\n",
    "                                aggfunc=['sum','count']).reset_index()\n",
    "\n",
    "</div>"
   ]
  },
  {
   "cell_type": "code",
   "execution_count": 23,
   "metadata": {
    "id": "aw2cmuql0q1G"
   },
   "outputs": [
    {
     "name": "stdout",
     "output_type": "stream",
     "text": [
      "     user_id  month  call_duration\n",
      "0       1000     12          124.0\n",
      "1       1001      8          182.0\n",
      "2       1001      9          315.0\n",
      "3       1001     10          393.0\n",
      "4       1001     11          426.0\n",
      "...      ...    ...            ...\n",
      "2253    1498     12          339.0\n",
      "2254    1499      9          346.0\n",
      "2255    1499     10          385.0\n",
      "2256    1499     11          308.0\n",
      "2257    1499     12          496.0\n",
      "\n",
      "[2258 rows x 3 columns]\n"
     ]
    }
   ],
   "source": [
    "# Calcula la cantidad de minutos usados por cada usuario al mes. Guarda el resultado.\n",
    "minutes_by_user_per_month = calls.groupby(['user_id', 'month'])['duration'].sum().reset_index()\n",
    "minutes_by_user_per_month = minutes_by_user_per_month.sort_values(['user_id', 'month'], ascending=True)\n",
    "minutes_by_user_per_month.rename(columns={'duration': 'call_duration'}, inplace=True)\n",
    "print(minutes_by_user_per_month)"
   ]
  },
  {
   "cell_type": "code",
   "execution_count": 24,
   "metadata": {
    "id": "CcQvNHn60q1G"
   },
   "outputs": [
    {
     "name": "stdout",
     "output_type": "stream",
     "text": [
      "     user_id  month  message_count\n",
      "0       1000     12             11\n",
      "1       1001      8             30\n",
      "2       1001      9             44\n",
      "3       1001     10             53\n",
      "4       1001     11             36\n",
      "...      ...    ...            ...\n",
      "1801    1496      9             21\n",
      "1802    1496     10             18\n",
      "1803    1496     11             13\n",
      "1804    1496     12             11\n",
      "1805    1497     12             50\n",
      "\n",
      "[1806 rows x 3 columns]\n"
     ]
    }
   ],
   "source": [
    "# Calcula el número de mensajes enviados por cada usuario al mes. Guarda el resultado.\n",
    "messages_by_user_per_month = messages.groupby(['user_id', 'month'])['id'].count().reset_index()\n",
    "messages_by_user_per_month.rename(columns={'id': 'message_count'}, inplace=True)\n",
    "print(messages_by_user_per_month)\n"
   ]
  },
  {
   "cell_type": "code",
   "execution_count": 25,
   "metadata": {
    "id": "H1AqN2eG0q1H"
   },
   "outputs": [
    {
     "name": "stdout",
     "output_type": "stream",
     "text": [
      "     user_id  month  mb_used\n",
      "0       1000     12   1903.0\n",
      "1       1001      8   6929.0\n",
      "2       1001      9  13333.0\n",
      "3       1001     10  22356.0\n",
      "4       1001     11  18524.0\n",
      "...      ...    ...      ...\n",
      "2272    1498     12  23160.0\n",
      "2273    1499      9  13004.0\n",
      "2274    1499     10  19515.0\n",
      "2275    1499     11  16834.0\n",
      "2276    1499     12  22091.0\n",
      "\n",
      "[2277 rows x 3 columns]\n"
     ]
    }
   ],
   "source": [
    "# Calcula el volumen del tráfico de Internet usado por cada usuario al mes. Guarda el resultado.\n",
    "mb_by_user_per_month = internet.groupby(['user_id', 'month'])['mb_used'].sum().reset_index()\n",
    "print(mb_by_user_per_month)\n"
   ]
  },
  {
   "cell_type": "markdown",
   "metadata": {
    "id": "VDfYXnj80q1H"
   },
   "source": [
    "[Junta los datos agregados en un DataFrame para que haya un registro que represente lo que consumió un usuario único en un mes determinado.]"
   ]
  },
  {
   "cell_type": "code",
   "execution_count": 26,
   "metadata": {
    "id": "FW99ykyf0q1H"
   },
   "outputs": [
    {
     "name": "stdout",
     "output_type": "stream",
     "text": [
      "     user_id  month  call_count  call_duration  message_count  mb_used\n",
      "0       1000     12          16          124.0             11   1903.0\n",
      "1       1001      8          27          182.0             30   6929.0\n",
      "2       1001      9          49          315.0             44  13333.0\n",
      "3       1001     10          65          393.0             53  22356.0\n",
      "4       1001     11          64          426.0             36  18524.0\n",
      "...      ...    ...         ...            ...            ...      ...\n",
      "2253    1498     12          39          339.0              0  23160.0\n",
      "2254    1499      9          41          346.0              0  13004.0\n",
      "2255    1499     10          53          385.0              0  19515.0\n",
      "2256    1499     11          45          308.0              0  16834.0\n",
      "2257    1499     12          65          496.0              0  22091.0\n",
      "\n",
      "[2258 rows x 6 columns]\n"
     ]
    }
   ],
   "source": [
    "# Fusiona los datos de llamadas, minutos, mensajes e Internet con base en user_id y month\n",
    "user_data_by_month = calls_by_user_per_month.merge(minutes_by_user_per_month, on=['user_id', 'month'], how='left')\n",
    "user_data_by_month = user_data_by_month.merge(messages_by_user_per_month, on=['user_id', 'month'], how='left')\n",
    "user_data_by_month = user_data_by_month.merge(mb_by_user_per_month, on=['user_id', 'month'], how='left')\n",
    "user_data_by_month = user_data_by_month.fillna(0)\n",
    "user_data_by_month['message_count'] = user_data_by_month['message_count'].astype('int')\n",
    "print(user_data_by_month)"
   ]
  },
  {
   "cell_type": "code",
   "execution_count": 27,
   "metadata": {
    "id": "0dNOXHag0q1H"
   },
   "outputs": [
    {
     "name": "stdout",
     "output_type": "stream",
     "text": [
      "     user_id  month  call_count  call_duration  message_count  mb_used  \\\n",
      "0       1000     12          16          124.0             11   1903.0   \n",
      "1       1001      8          27          182.0             30   6929.0   \n",
      "2       1001      9          49          315.0             44  13333.0   \n",
      "3       1001     10          65          393.0             53  22356.0   \n",
      "4       1001     11          64          426.0             36  18524.0   \n",
      "...      ...    ...         ...            ...            ...      ...   \n",
      "2253    1498     12          39          339.0              0  23160.0   \n",
      "2254    1499      9          41          346.0              0  13004.0   \n",
      "2255    1499     10          53          385.0              0  19515.0   \n",
      "2256    1499     11          45          308.0              0  16834.0   \n",
      "2257    1499     12          65          496.0              0  22091.0   \n",
      "\n",
      "          plan  \n",
      "0     ultimate  \n",
      "1         surf  \n",
      "2         surf  \n",
      "3         surf  \n",
      "4         surf  \n",
      "...        ...  \n",
      "2253      surf  \n",
      "2254      surf  \n",
      "2255      surf  \n",
      "2256      surf  \n",
      "2257      surf  \n",
      "\n",
      "[2258 rows x 7 columns]\n"
     ]
    }
   ],
   "source": [
    "# Añade la información de la tarifa\n",
    "user_data_complete = pd.merge(user_data_by_month, users[['user_id', 'plan']], on='user_id', how='left')\n",
    "print(user_data_complete)"
   ]
  },
  {
   "cell_type": "markdown",
   "metadata": {},
   "source": [
    "<div class=\"alert alert-block alert-success\">\n",
    "<b>Comentario del revisor</b> <a class=\"tocSkip\"></a>\n",
    "\n",
    "Muy buen trabajo!! el merge es correcto para unir todas las bases trabajadas.\n",
    "    \n",
    "</div>"
   ]
  },
  {
   "cell_type": "markdown",
   "metadata": {
    "id": "1IwGo4wg0q1I"
   },
   "source": [
    "[Calcula los ingresos mensuales por usuario (resta el límite del paquete gratuito del número total de llamadas, mensajes de texto y datos; multiplica el resultado por el valor del plan de llamadas; añade la tarifa mensual en función del plan de llamadas). Nota: Dadas las condiciones del plan, ¡esto podría no ser tan trivial como un par de líneas! Así que no pasa nada si dedicas algo de tiempo a ello.]"
   ]
  },
  {
   "cell_type": "code",
   "execution_count": 29,
   "metadata": {
    "id": "5FGCf_c60q1I",
    "scrolled": true
   },
   "outputs": [
    {
     "data": {
      "text/html": [
       "<div>\n",
       "<style scoped>\n",
       "    .dataframe tbody tr th:only-of-type {\n",
       "        vertical-align: middle;\n",
       "    }\n",
       "\n",
       "    .dataframe tbody tr th {\n",
       "        vertical-align: top;\n",
       "    }\n",
       "\n",
       "    .dataframe thead th {\n",
       "        text-align: right;\n",
       "    }\n",
       "</style>\n",
       "<table border=\"1\" class=\"dataframe\">\n",
       "  <thead>\n",
       "    <tr style=\"text-align: right;\">\n",
       "      <th></th>\n",
       "      <th>user_id</th>\n",
       "      <th>month</th>\n",
       "      <th>call_count</th>\n",
       "      <th>call_duration</th>\n",
       "      <th>message_count</th>\n",
       "      <th>mb_used</th>\n",
       "      <th>plan</th>\n",
       "      <th>messages_included</th>\n",
       "      <th>mb_per_month_included</th>\n",
       "      <th>minutes_included</th>\n",
       "      <th>usd_monthly_pay</th>\n",
       "      <th>usd_per_gb</th>\n",
       "      <th>usd_per_message</th>\n",
       "      <th>usd_per_minute</th>\n",
       "      <th>plan_name</th>\n",
       "      <th>gb_used</th>\n",
       "    </tr>\n",
       "  </thead>\n",
       "  <tbody>\n",
       "    <tr>\n",
       "      <th>0</th>\n",
       "      <td>1000</td>\n",
       "      <td>12</td>\n",
       "      <td>16</td>\n",
       "      <td>124.0</td>\n",
       "      <td>11</td>\n",
       "      <td>1903.0</td>\n",
       "      <td>ultimate</td>\n",
       "      <td>1000</td>\n",
       "      <td>30720</td>\n",
       "      <td>3000</td>\n",
       "      <td>70</td>\n",
       "      <td>7</td>\n",
       "      <td>0.01</td>\n",
       "      <td>0.01</td>\n",
       "      <td>ultimate</td>\n",
       "      <td>2.0</td>\n",
       "    </tr>\n",
       "    <tr>\n",
       "      <th>1</th>\n",
       "      <td>1001</td>\n",
       "      <td>8</td>\n",
       "      <td>27</td>\n",
       "      <td>182.0</td>\n",
       "      <td>30</td>\n",
       "      <td>6929.0</td>\n",
       "      <td>surf</td>\n",
       "      <td>50</td>\n",
       "      <td>15360</td>\n",
       "      <td>500</td>\n",
       "      <td>20</td>\n",
       "      <td>10</td>\n",
       "      <td>0.03</td>\n",
       "      <td>0.03</td>\n",
       "      <td>surf</td>\n",
       "      <td>7.0</td>\n",
       "    </tr>\n",
       "    <tr>\n",
       "      <th>2</th>\n",
       "      <td>1001</td>\n",
       "      <td>9</td>\n",
       "      <td>49</td>\n",
       "      <td>315.0</td>\n",
       "      <td>44</td>\n",
       "      <td>13333.0</td>\n",
       "      <td>surf</td>\n",
       "      <td>50</td>\n",
       "      <td>15360</td>\n",
       "      <td>500</td>\n",
       "      <td>20</td>\n",
       "      <td>10</td>\n",
       "      <td>0.03</td>\n",
       "      <td>0.03</td>\n",
       "      <td>surf</td>\n",
       "      <td>14.0</td>\n",
       "    </tr>\n",
       "    <tr>\n",
       "      <th>3</th>\n",
       "      <td>1001</td>\n",
       "      <td>10</td>\n",
       "      <td>65</td>\n",
       "      <td>393.0</td>\n",
       "      <td>53</td>\n",
       "      <td>22356.0</td>\n",
       "      <td>surf</td>\n",
       "      <td>50</td>\n",
       "      <td>15360</td>\n",
       "      <td>500</td>\n",
       "      <td>20</td>\n",
       "      <td>10</td>\n",
       "      <td>0.03</td>\n",
       "      <td>0.03</td>\n",
       "      <td>surf</td>\n",
       "      <td>22.0</td>\n",
       "    </tr>\n",
       "    <tr>\n",
       "      <th>4</th>\n",
       "      <td>1001</td>\n",
       "      <td>11</td>\n",
       "      <td>64</td>\n",
       "      <td>426.0</td>\n",
       "      <td>36</td>\n",
       "      <td>18524.0</td>\n",
       "      <td>surf</td>\n",
       "      <td>50</td>\n",
       "      <td>15360</td>\n",
       "      <td>500</td>\n",
       "      <td>20</td>\n",
       "      <td>10</td>\n",
       "      <td>0.03</td>\n",
       "      <td>0.03</td>\n",
       "      <td>surf</td>\n",
       "      <td>19.0</td>\n",
       "    </tr>\n",
       "  </tbody>\n",
       "</table>\n",
       "</div>"
      ],
      "text/plain": [
       "  user_id  month  call_count  call_duration  message_count  mb_used      plan  \\\n",
       "0    1000     12          16          124.0             11   1903.0  ultimate   \n",
       "1    1001      8          27          182.0             30   6929.0      surf   \n",
       "2    1001      9          49          315.0             44  13333.0      surf   \n",
       "3    1001     10          65          393.0             53  22356.0      surf   \n",
       "4    1001     11          64          426.0             36  18524.0      surf   \n",
       "\n",
       "   messages_included  mb_per_month_included  minutes_included  \\\n",
       "0               1000                  30720              3000   \n",
       "1                 50                  15360               500   \n",
       "2                 50                  15360               500   \n",
       "3                 50                  15360               500   \n",
       "4                 50                  15360               500   \n",
       "\n",
       "   usd_monthly_pay  usd_per_gb  usd_per_message  usd_per_minute plan_name  \\\n",
       "0               70           7             0.01            0.01  ultimate   \n",
       "1               20          10             0.03            0.03      surf   \n",
       "2               20          10             0.03            0.03      surf   \n",
       "3               20          10             0.03            0.03      surf   \n",
       "4               20          10             0.03            0.03      surf   \n",
       "\n",
       "   gb_used  \n",
       "0      2.0  \n",
       "1      7.0  \n",
       "2     14.0  \n",
       "3     22.0  \n",
       "4     19.0  "
      ]
     },
     "execution_count": 29,
     "metadata": {},
     "output_type": "execute_result"
    }
   ],
   "source": [
    "# Calcula el ingreso mensual para cada usuario\n",
    "monthly_income = pd.merge(user_data_complete, plans, left_on='plan', right_on='plan_name', how='left')\n",
    "monthly_income['gb_used'] = monthly_income['mb_used'] / 1024\n",
    "monthly_income['gb_used'] = np.ceil(monthly_income['gb_used'])\n",
    "monthly_income.head(5)"
   ]
  },
  {
   "cell_type": "markdown",
   "metadata": {},
   "source": [
    "<div class=\"alert alert-block alert-info\">\n",
    "<b>Comentario:</b>\n",
    "\n",
    "Se agrega redondeo con np.ceil().<a class=\"tocSkip\"></a>"
   ]
  },
  {
   "cell_type": "code",
   "execution_count": 30,
   "metadata": {},
   "outputs": [],
   "source": [
    "def calculate_minute_excess(row):\n",
    "    call_duration = row['call_duration']\n",
    "    minutes_included = row['minutes_included']\n",
    "    if call_duration > minutes_included:\n",
    "        return call_duration - minutes_included\n",
    "    else:\n",
    "        return 0\n",
    "\n",
    "monthly_income['excess_minutes'] = monthly_income.apply(calculate_minute_excess, axis=1)\n",
    "\n",
    "def calculate_message_excess(row):\n",
    "    message_count = row['message_count']\n",
    "    messages_included = row['messages_included']\n",
    "    if message_count > messages_included:\n",
    "        return message_count - messages_included\n",
    "    else:\n",
    "        return 0\n",
    "\n",
    "monthly_income['excess_messages'] = monthly_income.apply(calculate_message_excess, axis=1)\n",
    "\n",
    "def calculate_gb_excess(row):\n",
    "    gb_used = row['gb_used']\n",
    "    mb_included = row['mb_per_month_included']\n",
    "    gb_included = mb_included / 1024\n",
    "    if gb_used > gb_included:\n",
    "        return gb_used - gb_included\n",
    "    else:\n",
    "        return 0\n",
    "\n",
    "monthly_income['excess_gb'] = monthly_income.apply(calculate_gb_excess, axis=1)"
   ]
  },
  {
   "cell_type": "code",
   "execution_count": 31,
   "metadata": {},
   "outputs": [
    {
     "data": {
      "text/html": [
       "<div>\n",
       "<style scoped>\n",
       "    .dataframe tbody tr th:only-of-type {\n",
       "        vertical-align: middle;\n",
       "    }\n",
       "\n",
       "    .dataframe tbody tr th {\n",
       "        vertical-align: top;\n",
       "    }\n",
       "\n",
       "    .dataframe thead th {\n",
       "        text-align: right;\n",
       "    }\n",
       "</style>\n",
       "<table border=\"1\" class=\"dataframe\">\n",
       "  <thead>\n",
       "    <tr style=\"text-align: right;\">\n",
       "      <th></th>\n",
       "      <th>user_id</th>\n",
       "      <th>month</th>\n",
       "      <th>call_count</th>\n",
       "      <th>call_duration</th>\n",
       "      <th>message_count</th>\n",
       "      <th>mb_used</th>\n",
       "      <th>plan</th>\n",
       "      <th>messages_included</th>\n",
       "      <th>mb_per_month_included</th>\n",
       "      <th>minutes_included</th>\n",
       "      <th>usd_monthly_pay</th>\n",
       "      <th>usd_per_gb</th>\n",
       "      <th>usd_per_message</th>\n",
       "      <th>usd_per_minute</th>\n",
       "      <th>plan_name</th>\n",
       "      <th>gb_used</th>\n",
       "      <th>excess_minutes</th>\n",
       "      <th>excess_messages</th>\n",
       "      <th>excess_gb</th>\n",
       "    </tr>\n",
       "  </thead>\n",
       "  <tbody>\n",
       "    <tr>\n",
       "      <th>0</th>\n",
       "      <td>1000</td>\n",
       "      <td>12</td>\n",
       "      <td>16</td>\n",
       "      <td>124.0</td>\n",
       "      <td>11</td>\n",
       "      <td>1903.0</td>\n",
       "      <td>ultimate</td>\n",
       "      <td>1000</td>\n",
       "      <td>30720</td>\n",
       "      <td>3000</td>\n",
       "      <td>70</td>\n",
       "      <td>7</td>\n",
       "      <td>0.01</td>\n",
       "      <td>0.01</td>\n",
       "      <td>ultimate</td>\n",
       "      <td>2.0</td>\n",
       "      <td>0.0</td>\n",
       "      <td>0</td>\n",
       "      <td>0.0</td>\n",
       "    </tr>\n",
       "    <tr>\n",
       "      <th>1</th>\n",
       "      <td>1001</td>\n",
       "      <td>8</td>\n",
       "      <td>27</td>\n",
       "      <td>182.0</td>\n",
       "      <td>30</td>\n",
       "      <td>6929.0</td>\n",
       "      <td>surf</td>\n",
       "      <td>50</td>\n",
       "      <td>15360</td>\n",
       "      <td>500</td>\n",
       "      <td>20</td>\n",
       "      <td>10</td>\n",
       "      <td>0.03</td>\n",
       "      <td>0.03</td>\n",
       "      <td>surf</td>\n",
       "      <td>7.0</td>\n",
       "      <td>0.0</td>\n",
       "      <td>0</td>\n",
       "      <td>0.0</td>\n",
       "    </tr>\n",
       "    <tr>\n",
       "      <th>2</th>\n",
       "      <td>1001</td>\n",
       "      <td>9</td>\n",
       "      <td>49</td>\n",
       "      <td>315.0</td>\n",
       "      <td>44</td>\n",
       "      <td>13333.0</td>\n",
       "      <td>surf</td>\n",
       "      <td>50</td>\n",
       "      <td>15360</td>\n",
       "      <td>500</td>\n",
       "      <td>20</td>\n",
       "      <td>10</td>\n",
       "      <td>0.03</td>\n",
       "      <td>0.03</td>\n",
       "      <td>surf</td>\n",
       "      <td>14.0</td>\n",
       "      <td>0.0</td>\n",
       "      <td>0</td>\n",
       "      <td>0.0</td>\n",
       "    </tr>\n",
       "    <tr>\n",
       "      <th>3</th>\n",
       "      <td>1001</td>\n",
       "      <td>10</td>\n",
       "      <td>65</td>\n",
       "      <td>393.0</td>\n",
       "      <td>53</td>\n",
       "      <td>22356.0</td>\n",
       "      <td>surf</td>\n",
       "      <td>50</td>\n",
       "      <td>15360</td>\n",
       "      <td>500</td>\n",
       "      <td>20</td>\n",
       "      <td>10</td>\n",
       "      <td>0.03</td>\n",
       "      <td>0.03</td>\n",
       "      <td>surf</td>\n",
       "      <td>22.0</td>\n",
       "      <td>0.0</td>\n",
       "      <td>3</td>\n",
       "      <td>7.0</td>\n",
       "    </tr>\n",
       "    <tr>\n",
       "      <th>4</th>\n",
       "      <td>1001</td>\n",
       "      <td>11</td>\n",
       "      <td>64</td>\n",
       "      <td>426.0</td>\n",
       "      <td>36</td>\n",
       "      <td>18524.0</td>\n",
       "      <td>surf</td>\n",
       "      <td>50</td>\n",
       "      <td>15360</td>\n",
       "      <td>500</td>\n",
       "      <td>20</td>\n",
       "      <td>10</td>\n",
       "      <td>0.03</td>\n",
       "      <td>0.03</td>\n",
       "      <td>surf</td>\n",
       "      <td>19.0</td>\n",
       "      <td>0.0</td>\n",
       "      <td>0</td>\n",
       "      <td>4.0</td>\n",
       "    </tr>\n",
       "  </tbody>\n",
       "</table>\n",
       "</div>"
      ],
      "text/plain": [
       "  user_id  month  call_count  call_duration  message_count  mb_used      plan  \\\n",
       "0    1000     12          16          124.0             11   1903.0  ultimate   \n",
       "1    1001      8          27          182.0             30   6929.0      surf   \n",
       "2    1001      9          49          315.0             44  13333.0      surf   \n",
       "3    1001     10          65          393.0             53  22356.0      surf   \n",
       "4    1001     11          64          426.0             36  18524.0      surf   \n",
       "\n",
       "   messages_included  mb_per_month_included  minutes_included  \\\n",
       "0               1000                  30720              3000   \n",
       "1                 50                  15360               500   \n",
       "2                 50                  15360               500   \n",
       "3                 50                  15360               500   \n",
       "4                 50                  15360               500   \n",
       "\n",
       "   usd_monthly_pay  usd_per_gb  usd_per_message  usd_per_minute plan_name  \\\n",
       "0               70           7             0.01            0.01  ultimate   \n",
       "1               20          10             0.03            0.03      surf   \n",
       "2               20          10             0.03            0.03      surf   \n",
       "3               20          10             0.03            0.03      surf   \n",
       "4               20          10             0.03            0.03      surf   \n",
       "\n",
       "   gb_used  excess_minutes  excess_messages  excess_gb  \n",
       "0      2.0             0.0                0        0.0  \n",
       "1      7.0             0.0                0        0.0  \n",
       "2     14.0             0.0                0        0.0  \n",
       "3     22.0             0.0                3        7.0  \n",
       "4     19.0             0.0                0        4.0  "
      ]
     },
     "execution_count": 31,
     "metadata": {},
     "output_type": "execute_result"
    }
   ],
   "source": [
    "monthly_income.head(5)"
   ]
  },
  {
   "cell_type": "code",
   "execution_count": 32,
   "metadata": {},
   "outputs": [
    {
     "name": "stdout",
     "output_type": "stream",
     "text": [
      "<class 'pandas.core.frame.DataFrame'>\n",
      "Int64Index: 2258 entries, 0 to 2257\n",
      "Data columns (total 23 columns):\n",
      " #   Column                 Non-Null Count  Dtype  \n",
      "---  ------                 --------------  -----  \n",
      " 0   user_id                2258 non-null   object \n",
      " 1   month                  2258 non-null   int64  \n",
      " 2   call_count             2258 non-null   int64  \n",
      " 3   call_duration          2258 non-null   float64\n",
      " 4   message_count          2258 non-null   int64  \n",
      " 5   mb_used                2258 non-null   float64\n",
      " 6   plan                   2258 non-null   object \n",
      " 7   messages_included      2258 non-null   int64  \n",
      " 8   mb_per_month_included  2258 non-null   int64  \n",
      " 9   minutes_included       2258 non-null   int64  \n",
      " 10  usd_monthly_pay        2258 non-null   int64  \n",
      " 11  usd_per_gb             2258 non-null   int64  \n",
      " 12  usd_per_message        2258 non-null   float64\n",
      " 13  usd_per_minute         2258 non-null   float64\n",
      " 14  plan_name              2258 non-null   object \n",
      " 15  gb_used                2258 non-null   float64\n",
      " 16  excess_minutes         2258 non-null   float64\n",
      " 17  excess_messages        2258 non-null   int64  \n",
      " 18  excess_gb              2258 non-null   float64\n",
      " 19  excess_minutes_cost    2258 non-null   float64\n",
      " 20  excess_messages_cost   2258 non-null   float64\n",
      " 21  excess_gb_cost         2258 non-null   float64\n",
      " 22  final_cost             2258 non-null   float64\n",
      "dtypes: float64(11), int64(9), object(3)\n",
      "memory usage: 423.4+ KB\n"
     ]
    }
   ],
   "source": [
    "monthly_income['excess_minutes_cost'] = monthly_income['excess_minutes'] * monthly_income['usd_per_minute']\n",
    "monthly_income['excess_messages_cost'] = monthly_income['excess_messages'] * monthly_income['usd_per_message']\n",
    "monthly_income['excess_gb_cost'] = monthly_income['excess_gb'] * monthly_income['usd_per_gb']\n",
    "\n",
    "monthly_income['final_cost'] = (\n",
    "    monthly_income['usd_monthly_pay'] +\n",
    "    monthly_income['excess_minutes_cost'] +\n",
    "    monthly_income['excess_messages_cost'] +\n",
    "    monthly_income['excess_gb_cost'])\n",
    "\n",
    "monthly_income.info()"
   ]
  },
  {
   "cell_type": "code",
   "execution_count": 33,
   "metadata": {},
   "outputs": [
    {
     "name": "stdout",
     "output_type": "stream",
     "text": [
      "     user_id  month  final_cost\n",
      "0       1000     12       70.00\n",
      "1       1001      8       20.00\n",
      "2       1001      9       20.00\n",
      "3       1001     10       90.09\n",
      "4       1001     11       60.00\n",
      "...      ...    ...         ...\n",
      "2253    1498     12      100.00\n",
      "2254    1499      9       20.00\n",
      "2255    1499     10       70.00\n",
      "2256    1499     11       40.00\n",
      "2257    1499     12       90.00\n",
      "\n",
      "[2258 rows x 3 columns]\n"
     ]
    }
   ],
   "source": [
    "cost_per_user_per_month = monthly_income.groupby(['user_id', 'month'])['final_cost'].sum().reset_index()\n",
    "print(cost_per_user_per_month)"
   ]
  },
  {
   "cell_type": "markdown",
   "metadata": {},
   "source": [
    "<div class=\"alert alert-block alert-danger\">\n",
    "<b>Comentario revisor</b> <a class=\"tocSkip\"></a>\n",
    "\n",
    "\n",
    "Recuerda que para este punto, es necesario que ya tengamos los valores redondeados de la duración de las llamadas y redondear la transformación de megabytes a gigabytes. Esto cobra importancia dado que estamos calculando por cuanto se paso cada usuario, entonces el no redondear puede alterar este valor.\n",
    "</div>"
   ]
  },
  {
   "cell_type": "markdown",
   "metadata": {},
   "source": [
    "<div class=\"alert alert-block alert-info\">\n",
    "<b>Respuesta:</b>\n",
    "\n",
    "También ya redondeé justo después de haber dividido entre 1024, dejé el comentario en este mismo formato, por favor revisar si quedó bien.<a class=\"tocSkip\"></a>"
   ]
  },
  {
   "cell_type": "markdown",
   "metadata": {},
   "source": [
    "<div class=\"alert alert-block alert-success\">\n",
    "<b>Comentario del revisor</b> <a class=\"tocSkip\"></a>\n",
    "\n",
    "Gran trabajo con el ajuste!"
   ]
  },
  {
   "cell_type": "markdown",
   "metadata": {
    "id": "-jtyHzJb0q1I"
   },
   "source": [
    "## Estudia el comportamiento de usuario"
   ]
  },
  {
   "cell_type": "markdown",
   "metadata": {
    "id": "AxU3Y0N70q1J"
   },
   "source": [
    "[Calcula algunas estadísticas descriptivas para los datos agregados y fusionados que nos sean útiles y que muestren un panorama general captado por los datos. Dibuja gráficos útiles para facilitar la comprensión. Dado que la tarea principal es comparar las tarifas y decidir cuál es más rentable, las estadísticas y gráficas deben calcularse por tarifa.]\n",
    "\n",
    "[En los comentarios hallarás pistas relevantes para las llamadas, pero no las hay para los mensajes e Internet. Sin embargo, el principio del estudio estadístico que se aplica para ellos es el mismo que para las llamadas.]"
   ]
  },
  {
   "cell_type": "markdown",
   "metadata": {
    "id": "vtW4CJEe0q1J"
   },
   "source": [
    "### Llamadas"
   ]
  },
  {
   "cell_type": "code",
   "execution_count": 37,
   "metadata": {
    "id": "Jf5v5--k0q1J"
   },
   "outputs": [
    {
     "data": {
      "image/png": "[encoded data removed]",
      "text/plain": [
       "<Figure size 1200x600 with 1 Axes>"
      ]
     },
     "metadata": {},
     "output_type": "display_data"
    }
   ],
   "source": [
    "# Compara la duración promedio de llamadas por cada plan y por cada mes. Traza un gráfico de barras para visualizarla.\n",
    "\n",
    "average_call_duration = monthly_income.groupby(['month', 'plan_name'])['call_duration'].mean().unstack(level='plan_name')\n",
    "\n",
    "average_call_duration.plot(kind='bar', figsize=(12, 6))\n",
    "\n",
    "plt.xlabel('Mes')\n",
    "plt.ylabel('Duración promedio (min)')\n",
    "plt.title('Duración promedio de llamadas por mes y plan')\n",
    "plt.xticks(rotation=0)\n",
    "plt.grid(axis='y', linestyle='-')\n",
    "plt.legend()\n",
    "plt.show()"
   ]
  },
  {
   "cell_type": "code",
   "execution_count": 38,
   "metadata": {
    "id": "QoLqW1S_0q1J"
   },
   "outputs": [
    {
     "data": {
      "image/png": "[encoded data removed]",
      "text/plain": [
       "<Figure size 1200x400 with 1 Axes>"
      ]
     },
     "metadata": {},
     "output_type": "display_data"
    },
    {
     "data": {
      "image/png": "[encoded data removed]",
      "text/plain": [
       "<Figure size 1200x400 with 1 Axes>"
      ]
     },
     "metadata": {},
     "output_type": "display_data"
    }
   ],
   "source": [
    "# Compara el número de minutos mensuales que necesitan los usuarios de cada plan. Traza un histograma.\n",
    "calls_surf = monthly_income[monthly_income['plan_name'] == 'surf']['call_duration']\n",
    "\n",
    "calls_surf.plot(kind='hist', figsize=[12, 4], edgecolor='black', bins=[50, 100, 150, 200, 250, 300, 350, 400, 450, 500, 550, 600, 650, 700, 750, 800, 850, 900, 950, 1000, 1050, 1100, 1150, 1200, 1250, 1300, 1350, 1400, 1450])\n",
    "\n",
    "plt.xlabel('Duración (min)')\n",
    "plt.ylabel('Frecuencia')\n",
    "plt.title('Duración mensual de llamadas: Plan Surf')\n",
    "plt.grid()\n",
    "plt.show()\n",
    "\n",
    "calls_ultimate = monthly_income[monthly_income['plan_name'] == 'ultimate']['call_duration']\n",
    "\n",
    "calls_ultimate.plot(kind='hist', figsize=[12, 4], edgecolor='black', bins=[50, 100, 150, 200, 250, 300, 350, 400, 450, 500, 550, 600, 650, 700, 750, 800, 850, 900, 950, 1000, 1050, 1100, 1150, 1200, 1250, 1300])\n",
    "\n",
    "plt.xlabel('Duración (min)')\n",
    "plt.ylabel('Frecuencia')\n",
    "plt.title('Duración mensual de llamadas: Plan Ultimate')\n",
    "plt.grid()\n",
    "plt.show()"
   ]
  },
  {
   "cell_type": "markdown",
   "metadata": {
    "id": "bLS9T8OH0q1K"
   },
   "source": [
    "[Calcula la media y la variable de la duración de las llamadas para averiguar si los usuarios de los distintos planes se comportan de forma diferente al realizar sus llamadas.]"
   ]
  },
  {
   "cell_type": "code",
   "execution_count": 39,
   "metadata": {
    "id": "oSndbAnt0q1K"
   },
   "outputs": [
    {
     "name": "stdout",
     "output_type": "stream",
     "text": [
      "Duración promedio mensual de llamadas: plan_name\n",
      "surf        436.52\n",
      "ultimate    434.68\n",
      "Name: call_duration, dtype: float64\n",
      "\n",
      "Variación de la duración mensual de llamadas: plan_name\n",
      "surf        52571.06\n",
      "ultimate    56573.63\n",
      "Name: call_duration, dtype: float64\n"
     ]
    }
   ],
   "source": [
    "# Calcula la media y la varianza de la duración mensual de llamada por plan\n",
    "monthly_call_duration_mean = monthly_income.groupby('plan_name')['call_duration'].mean().round(2)\n",
    "print('Duración promedio mensual de llamadas:', monthly_call_duration_mean)\n",
    "print()\n",
    "monthly_call_duration_var = monthly_income.groupby('plan_name')['call_duration'].var().round(2)\n",
    "print('Variación de la duración mensual de llamadas:', monthly_call_duration_var)"
   ]
  },
  {
   "cell_type": "code",
   "execution_count": 40,
   "metadata": {
    "id": "nZzoRUKc0q1K"
   },
   "outputs": [
    {
     "data": {
      "image/png": "[encoded data removed]",
      "text/plain": [
       "<Figure size 1000x200 with 1 Axes>"
      ]
     },
     "metadata": {},
     "output_type": "display_data"
    }
   ],
   "source": [
    "# Traza un diagrama de caja para visualizar la distribución de la duración mensual de llamadas por plan\n",
    "plt.figure(figsize=(10, 2))\n",
    "sns.boxplot(x='call_duration', y='plan_name', data=monthly_income)\n",
    "plt.xlabel('Duración total de llamadas al mes (min)')\n",
    "plt.ylabel('Plan')\n",
    "plt.title('Distribución de la duración de llamadas al mes por plan')\n",
    "plt.grid(axis='x', linestyle='--')\n",
    "plt.tight_layout()\n",
    "plt.show()"
   ]
  },
  {
   "cell_type": "markdown",
   "metadata": {
    "id": "r627zBO50q1K"
   },
   "source": [
    "[Elabora las conclusiones sobre el comportamiento de los usuarios con respecto a las llamadas. ¿Su comportamiento varía en función del plan?]"
   ]
  },
  {
   "cell_type": "markdown",
   "metadata": {
    "id": "8idKy8Wh0q1L"
   },
   "source": [
    "### Mensajes"
   ]
  },
  {
   "cell_type": "code",
   "execution_count": 41,
   "metadata": {
    "id": "NXLxiTit0q1L"
   },
   "outputs": [
    {
     "data": {
      "image/png": "[encoded data removed]",
      "text/plain": [
       "<Figure size 1200x600 with 1 Axes>"
      ]
     },
     "metadata": {},
     "output_type": "display_data"
    },
    {
     "data": {
      "image/png": "[encoded data removed]",
      "text/plain": [
       "<Figure size 1200x600 with 1 Axes>"
      ]
     },
     "metadata": {},
     "output_type": "display_data"
    }
   ],
   "source": [
    "# Comprara el número de mensajes que tienden a enviar cada mes los usuarios de cada plan\n",
    "messages_surf = monthly_income[monthly_income['plan_name'] == 'surf']['message_count']\n",
    "\n",
    "messages_surf.plot(kind='hist', figsize=[12, 6], edgecolor='black', bins=[10, 20, 30, 40, 50, 60, 70, 80, 90, 100, 110, 120, 130, 140, 150, 160, 170, 180, 190, 200, 210, 220, 230, 240, 250, 260, 270])\n",
    "\n",
    "plt.xlabel('Mensajes al mes')\n",
    "plt.ylabel('Frecuencia')\n",
    "plt.title('Mensajes al mes: Plan Surf')\n",
    "plt.grid()\n",
    "plt.show()\n",
    "\n",
    "messages_ultimate = monthly_income[monthly_income['plan_name'] == 'ultimate']['message_count']\n",
    "\n",
    "messages_ultimate.plot(kind='hist', figsize=[12, 6], edgecolor='black', bins=[5, 10, 15, 20, 25, 30, 35, 40, 45, 50, 55, 60, 65, 70, 75, 80, 85, 90, 95, 100, 105, 110, 115, 120, 125, 130, 135, 140, 145, 150, 155, 160, 165, 170])\n",
    "\n",
    "plt.xlabel('Mensajes al mes')\n",
    "plt.ylabel('Frecuencia')\n",
    "plt.title('Mensajes al mes: Plan Ultimate')\n",
    "plt.grid()\n",
    "plt.show()"
   ]
  },
  {
   "cell_type": "code",
   "execution_count": 42,
   "metadata": {
    "id": "GRI_R7xF0q1L"
   },
   "outputs": [
    {
     "name": "stdout",
     "output_type": "stream",
     "text": [
      "Promedio de mensajes enviados al mes: plan_name\n",
      "surf        30.90\n",
      "ultimate    37.73\n",
      "Name: message_count, dtype: float64\n",
      "\n",
      "Varianza de mensajes enviados al mes: plan_name\n",
      "surf        1131.95\n",
      "ultimate    1210.14\n",
      "Name: message_count, dtype: float64\n"
     ]
    }
   ],
   "source": [
    "# Calculo de la media y la varianza de los mensajes enviados al mes por plan\n",
    "monthly_message_count_mean = monthly_income.groupby('plan_name')['message_count'].mean().round(2)\n",
    "print('Promedio de mensajes enviados al mes:', monthly_message_count_mean)\n",
    "print()\n",
    "monthly_message_count_var = monthly_income.groupby('plan_name')['message_count'].var().round(2)\n",
    "print('Varianza de mensajes enviados al mes:', monthly_message_count_var)"
   ]
  },
  {
   "cell_type": "code",
   "execution_count": 43,
   "metadata": {
    "id": "dtFwCGAp0q1M"
   },
   "outputs": [
    {
     "data": {
      "image/png": "[encoded data removed]",
      "text/plain": [
       "<Figure size 1000x200 with 1 Axes>"
      ]
     },
     "metadata": {},
     "output_type": "display_data"
    }
   ],
   "source": [
    "# Diagrama de caja para visualizar la distribución de los mensajes enviados al mes por plan\n",
    "plt.figure(figsize=(10, 2))\n",
    "sns.boxplot(x='message_count', y='plan_name', data=monthly_income)\n",
    "plt.xlabel('Mensajes enviado al mes')\n",
    "plt.ylabel('Plan')\n",
    "plt.title('Distribución de los mensajes enviados al mes')\n",
    "plt.grid(axis='x', linestyle='--')\n",
    "plt.tight_layout()\n",
    "plt.show()"
   ]
  },
  {
   "cell_type": "markdown",
   "metadata": {
    "id": "390SSL480q1M"
   },
   "source": [
    "[Elabora las conclusiones sobre el comportamiento de los usuarios con respecto a los mensajes. ¿Su comportamiento varía en función del plan?]"
   ]
  },
  {
   "cell_type": "markdown",
   "metadata": {
    "id": "42YSypXz0q1M"
   },
   "source": [
    "### Internet"
   ]
  },
  {
   "cell_type": "code",
   "execution_count": 44,
   "metadata": {
    "id": "lSuKPtjh0q1M"
   },
   "outputs": [
    {
     "data": {
      "image/png": "[encoded data removed]",
      "text/plain": [
       "<Figure size 1200x600 with 1 Axes>"
      ]
     },
     "metadata": {},
     "output_type": "display_data"
    },
    {
     "data": {
      "image/png": "[encoded data removed]",
      "text/plain": [
       "<Figure size 1200x600 with 1 Axes>"
      ]
     },
     "metadata": {},
     "output_type": "display_data"
    }
   ],
   "source": [
    "# Compara la cantidad de tráfico de Internet consumido por usuarios por plan\n",
    "internet_surf = monthly_income[monthly_income['plan_name'] == 'surf']['gb_used']\n",
    "\n",
    "internet_surf.plot(kind='hist', figsize=[12, 6], edgecolor='black', bins=70)\n",
    "\n",
    "plt.xlabel('Internet (gb)')\n",
    "plt.ylabel('Frecuencia')\n",
    "plt.title('Internet (gb) consumidos al mes: Plan Surf')\n",
    "plt.grid()\n",
    "plt.show()\n",
    "\n",
    "internet_ultimate = monthly_income[monthly_income['plan_name'] == 'ultimate']['gb_used']\n",
    "\n",
    "internet_ultimate.plot(kind='hist', figsize=[12, 6], edgecolor='black', bins=50)\n",
    "\n",
    "plt.xlabel('Internet (gb)')\n",
    "plt.ylabel('Frecuencia')\n",
    "plt.title('Internet (gb) consumidos al mes: Plan Ultimate')\n",
    "plt.grid()\n",
    "plt.show()"
   ]
  },
  {
   "cell_type": "code",
   "execution_count": 45,
   "metadata": {
    "id": "wnh8jYXi0q1N"
   },
   "outputs": [
    {
     "name": "stdout",
     "output_type": "stream",
     "text": [
      "Promedio de gb consumidos al mes: plan_name\n",
      "surf        16.63\n",
      "ultimate    17.40\n",
      "Name: gb_used, dtype: float64\n",
      "\n",
      "Varianza de gb consumidos al mes: plan_name\n",
      "surf        59.18\n",
      "ultimate    57.57\n",
      "Name: gb_used, dtype: float64\n"
     ]
    }
   ],
   "source": [
    "# Calculo de la media y la varianza de tráfico de internet al mes por plan\n",
    "monthly_gb_used_mean = monthly_income.groupby('plan_name')['gb_used'].mean().round(2)\n",
    "print('Promedio de gb consumidos al mes:', monthly_gb_used_mean)\n",
    "print()\n",
    "monthly_gb_used_var = monthly_income.groupby('plan_name')['gb_used'].var().round(2)\n",
    "print('Varianza de gb consumidos al mes:', monthly_gb_used_var)"
   ]
  },
  {
   "cell_type": "code",
   "execution_count": 46,
   "metadata": {
    "id": "5VlyJ9ry0q1N"
   },
   "outputs": [
    {
     "data": {
      "image/png": "[encoded data removed]",
      "text/plain": [
       "<Figure size 1000x200 with 1 Axes>"
      ]
     },
     "metadata": {},
     "output_type": "display_data"
    }
   ],
   "source": [
    "# Diagrama de caja para visualizar la distribución del tráfico de interés al mes por plan\n",
    "plt.figure(figsize=(10, 2))\n",
    "sns.boxplot(x='gb_used', y='plan_name', data=monthly_income)\n",
    "plt.xlabel('Internet (gb) consumidos al mes')\n",
    "plt.ylabel('Plan')\n",
    "plt.title('Distribución de internet (gb) consumido al mes')\n",
    "plt.grid(axis='x', linestyle='--')\n",
    "plt.tight_layout()\n",
    "plt.show()"
   ]
  },
  {
   "cell_type": "markdown",
   "metadata": {
    "id": "UN9zwuMP0q1N"
   },
   "source": [
    "[Elabora las conclusiones sobre cómo los usuarios tienden a consumir el tráfico de Internet. ¿Su comportamiento varía en función del plan?]"
   ]
  },
  {
   "cell_type": "markdown",
   "metadata": {
    "id": "tCijq3260q1N"
   },
   "source": [
    "## Ingreso"
   ]
  },
  {
   "cell_type": "markdown",
   "metadata": {
    "id": "9nq5IAcy0q1O"
   },
   "source": [
    "[Del mismo modo que has estudiado el comportamiento de los usuarios, describe estadísticamente los ingresos de los planes.]"
   ]
  },
  {
   "cell_type": "code",
   "execution_count": 47,
   "metadata": {
    "id": "tz-dq_V00q1O"
   },
   "outputs": [
    {
     "data": {
      "image/png": "[encoded data removed]",
      "text/plain": [
       "<Figure size 1200x800 with 1 Axes>"
      ]
     },
     "metadata": {},
     "output_type": "display_data"
    },
    {
     "data": {
      "image/png": "[encoded data removed]",
      "text/plain": [
       "<Figure size 1200x600 with 1 Axes>"
      ]
     },
     "metadata": {},
     "output_type": "display_data"
    }
   ],
   "source": [
    "income_surf = monthly_income[monthly_income['plan_name'] == 'surf']['final_cost']\n",
    "\n",
    "income_surf.plot(kind='hist', figsize=[12, 8], edgecolor='black', bins=60)\n",
    "\n",
    "plt.xlabel('Ingresos (USD)')\n",
    "plt.ylabel('Frecuencia')\n",
    "plt.title('Ingresos al mes: Plan Surf')\n",
    "plt.grid()\n",
    "plt.xlim([0, 600])\n",
    "plt.show()\n",
    "\n",
    "income_ultimate = monthly_income[monthly_income['plan_name'] == 'ultimate']['final_cost']\n",
    "\n",
    "income_ultimate.plot(kind='hist', figsize=[12, 6], edgecolor='black', bins=20)\n",
    "\n",
    "plt.xlabel('Ingresos (USD)')\n",
    "plt.ylabel('Frecuencia')\n",
    "plt.title('Ingresos al mes: Plan Ultimate')\n",
    "plt.grid()\n",
    "plt.xlim([0, 200])\n",
    "plt.show()"
   ]
  },
  {
   "cell_type": "code",
   "execution_count": 48,
   "metadata": {
    "id": "0Y1v8ZUz0q1P"
   },
   "outputs": [
    {
     "name": "stdout",
     "output_type": "stream",
     "text": [
      "Descripción estadística de los ingresos por plan:\n",
      "\n",
      "            count   mean    std   min   25%    50%    75%     max\n",
      "plan_name                                                        \n",
      "surf       1545.0  60.22  53.60  20.0  20.0  40.75  80.33  590.37\n",
      "ultimate    713.0  72.30  11.46  70.0  70.0  70.00  70.00  182.00\n",
      "\n",
      "Ingresos totales por plan (USD):\n",
      "plan_name\n",
      "surf        93033.92\n",
      "ultimate    51548.00\n",
      "Name: final_cost, dtype: float64\n"
     ]
    }
   ],
   "source": [
    "income_stats_per_plan = monthly_income.groupby('plan_name')['final_cost'].describe().round(2)\n",
    "print(\"Descripción estadística de los ingresos por plan:\")\n",
    "print()\n",
    "print(income_stats_per_plan)\n",
    "print()\n",
    "print(\"Ingresos totales por plan (USD):\")\n",
    "print(monthly_income.groupby('plan_name')['final_cost'].sum().round(2))"
   ]
  },
  {
   "cell_type": "code",
   "execution_count": 49,
   "metadata": {
    "id": "bYmwxyVh0q1P"
   },
   "outputs": [
    {
     "data": {
      "image/png": "[encoded data removed]",
      "text/plain": [
       "<Figure size 1000x200 with 1 Axes>"
      ]
     },
     "metadata": {},
     "output_type": "display_data"
    }
   ],
   "source": [
    "plt.figure(figsize=(10, 2))\n",
    "sns.boxplot(x='final_cost', y='plan_name', data=monthly_income)\n",
    "plt.xlabel('Ingresos al mes (USD)')\n",
    "plt.ylabel('Plan')\n",
    "plt.title('Distribución de Ingresos al mes')\n",
    "plt.grid(axis='x', linestyle='--')\n",
    "plt.tight_layout()\n",
    "plt.show()"
   ]
  },
  {
   "cell_type": "markdown",
   "metadata": {
    "id": "KAFidcXZ0q1P"
   },
   "source": [
    "[Elabora las conclusiones sobre cómo difiere el ingreso entre los planes.]"
   ]
  },
  {
   "cell_type": "markdown",
   "metadata": {},
   "source": [
    "<div class=\"alert alert-block alert-success\">\n",
    "<b>Comentario revisor</b> <a class=\"tocSkip\"></a>\n",
    "\n",
    " Muy buena prática la de usar distintos tipos de gráficas identificar algunos hallazgos y llegar a conclusiones. En este caso las gráficas de box-plots nos ayudan a identificar outiers que pueden sesgar nuestros resultados, especificamente las pruebas de hipótesis. Es por ello que con estás gráficas puedes complementar el análisis eliminando los valores atipicos. \n",
    "</div>"
   ]
  },
  {
   "cell_type": "markdown",
   "metadata": {
    "id": "ajJ7VKeI0q1Q"
   },
   "source": [
    "## Prueba las hipótesis estadísticas"
   ]
  },
  {
   "cell_type": "markdown",
   "metadata": {
    "id": "AdXAZ-yL0q1Q"
   },
   "source": [
    "[Prueba la hipótesis de que son diferentes los ingresos promedio procedentes de los usuarios de los planes de llamada Ultimate y Surf.]"
   ]
  },
  {
   "cell_type": "markdown",
   "metadata": {
    "id": "IQwa_hsh0q1Q"
   },
   "source": [
    "[Elabora las hipótesis nula y alternativa, escoge la prueba estadística, determina el valor alfa.]"
   ]
  },
  {
   "cell_type": "code",
   "execution_count": 56,
   "metadata": {
    "id": "nFoPNlPq0q1R"
   },
   "outputs": [
    {
     "name": "stdout",
     "output_type": "stream",
     "text": [
      "valor p: 5.810806023989452e-17\n",
      "Se acepta la hipótesis nula. Los ingresos promedio procedentes de los usuarios de los planes son distintos.\n"
     ]
    }
   ],
   "source": [
    "# Prueba las hipótesis\n",
    "\n",
    "#Ho: Los ingresos promedio procedentes de los usuarios de los planes son iguales\n",
    "#Hi: Los ingresos promedio procedentes de los usuarios de los planes son distintos\n",
    "\n",
    "alpha = 0.05\n",
    "results = st.ttest_ind(income_surf, income_ultimate, equal_var=False)\n",
    "print('valor p:', results.pvalue)\n",
    "\n",
    "if results.pvalue < alpha:\n",
    "    print('Se rechaza la hipótesis nula. Los ingresos promedio procedentes de los usuarios de los planes son distintos.')\n",
    "else:\n",
    "    print('Se acepta la hipótesis nula. Los ingresos promedio procedentes de los usuarios de los planes son iguales')\n"
   ]
  },
  {
   "cell_type": "markdown",
   "metadata": {},
   "source": [
    "\n",
    "<div class=\"alert alert-block alert-danger\">\n",
    "<b>Comentario Revisor</b> <a class=\"tocSkip\"></a>\n",
    "\n",
    "Te recomiendo que dentro de la función de stats.ttest_ind adiciones el elemento \"equal_var = False\" dado que para estos datos no podemos asegurar que las varianzas son iguales entre planes.\n",
    "</div>"
   ]
  },
  {
   "cell_type": "markdown",
   "metadata": {},
   "source": [
    "<div class=\"alert alert-block alert-info\">\n",
    "<b>Respuesta:</b>\n",
    "\n",
    "Se corrrije, por favor revisar si quedó bien.<a class=\"tocSkip\"></a>"
   ]
  },
  {
   "cell_type": "markdown",
   "metadata": {},
   "source": [
    "<div class=\"alert alert-block alert-success\">\n",
    "<b>Comentario del revisor</b> <a class=\"tocSkip\"></a>\n",
    "\n",
    "Gran trabajo con el ajuste!"
   ]
  },
  {
   "cell_type": "markdown",
   "metadata": {
    "id": "tCcAruM60q1R"
   },
   "source": [
    "[Prueba la hipótesis de que el ingreso promedio de los usuarios del área NY-NJ es diferente al de los usuarios de otras regiones.]"
   ]
  },
  {
   "cell_type": "markdown",
   "metadata": {
    "id": "LsBgitqj0q1R"
   },
   "source": [
    "[Elabora las hipótesis nula y alternativa, escoge la prueba estadística, determina el valor alfa.]"
   ]
  },
  {
   "cell_type": "code",
   "execution_count": 57,
   "metadata": {
    "id": "Cqcj7wrZ0q1S"
   },
   "outputs": [
    {
     "name": "stdout",
     "output_type": "stream",
     "text": [
      "valor p: 0.06619653624647975\n",
      "Se acepta la hipótesis nula. El ingreso promedio de los usuarios del área NY-NJ es igual al de los usuarios de otras regiones\n"
     ]
    }
   ],
   "source": [
    "# Prueba las hipótesis\n",
    "\n",
    "monthly_income_ny_nj = pd.merge(monthly_income, users, on='user_id', how='left')\n",
    "\n",
    "def assign_region(city):\n",
    "    if 'NY' in city or 'NJ' in city:\n",
    "        return 'NY-NJ'\n",
    "    else:\n",
    "        return 'Other'\n",
    "\n",
    "monthly_income_ny_nj['region'] = monthly_income_ny_nj['city'].apply(assign_region)\n",
    "\n",
    "ny_nj_income = monthly_income_ny_nj[monthly_income_ny_nj['region'] == 'NY-NJ']['final_cost']\n",
    "other_regions_income = monthly_income_ny_nj[monthly_income_ny_nj['region'] == 'Other']['final_cost']\n",
    "\n",
    "#Ho: El ingreso promedio de los usuarios del área NY-NJ es igual al de los usuarios de otras regiones\n",
    "#Hi: El ingreso promedio de los usuarios del área NY-NJ es diferente al de los usuarios de otras regiones\n",
    "\n",
    "alpha = 0.05\n",
    "results = st.ttest_ind(ny_nj_income, other_regions_income, equal_var=False)\n",
    "print('valor p:', results.pvalue)\n",
    "\n",
    "if results.pvalue < alpha:\n",
    "    print('Se rechaza la hipótesis nula. El ingreso promedio de los usuarios del área NY-NJ es diferente al de los usuarios de otras regiones.')\n",
    "else:\n",
    "    print('Se acepta la hipótesis nula. El ingreso promedio de los usuarios del área NY-NJ es igual al de los usuarios de otras regiones')\n"
   ]
  },
  {
   "cell_type": "markdown",
   "metadata": {},
   "source": [
    "\n",
    "<div class=\"alert alert-block alert-danger\">\n",
    "<b>Comentario Revisor</b> <a class=\"tocSkip\"></a>\n",
    "\n",
    "Te recomiendo que dentro de la función de stats.ttest_ind adiciones el elemento \"equal_var = False\" dado que para estos datos no podemos asegurar que las varianzas son iguales entre planes.\n",
    "</div>"
   ]
  },
  {
   "cell_type": "markdown",
   "metadata": {},
   "source": [
    "<div class=\"alert alert-block alert-info\">\n",
    "<b>Respuesta:</b>\n",
    "\n",
    "Se corrrije, por favor revisar si quedó bien.<a class=\"tocSkip\"></a>"
   ]
  },
  {
   "cell_type": "markdown",
   "metadata": {},
   "source": [
    "<div class=\"alert alert-block alert-success\">\n",
    "<b>Comentario del revisor</b> <a class=\"tocSkip\"></a>\n",
    "\n",
    "Gran trabajo con el ajuste! Sigue disfrutando los siguientes cursos!"
   ]
  },
  {
   "cell_type": "markdown",
   "metadata": {
    "id": "bbTR8UQO0q1T"
   },
   "source": [
    "## Conclusión general\n",
    "\n",
    "[En esta sección final, enumera tus conclusiones importantes. Asegúrate de que estas abarquen todas las decisiones (suposiciones) importantes que adoptaste y que determinaron la forma elegida para procesar y analizar los datos.]"
   ]
  },
  {
   "cell_type": "markdown",
   "metadata": {},
   "source": [
    "Existe diferencia entre los ingresos del plan Surf y Ultimate.\n",
    "Aunque los ingresos promedio del plan Ultimate tiene una media superior a los ingresos promedio del plan Surf, en el plan Surf existe una  variación hasta 5 veces mayor debido a que hay mas excesos calculados, aumentando así la tafira final que el usuario debe pagar.\n",
    "La cantidad de usuarios que utilizan el plan Surf es mayor al plan Ultimate.\n",
    "Existen más ingresos a través del plan Surf que el plan Ultimate:\n",
    "- Surf: 93033.92 USD\n",
    "- Últimate: 51548.00 USD\n",
    "\n",
    "<div class=\"alert alert-block alert-info\">\n",
    "Se actualizan las cifras en las conclusiones dado que cambiaron por los redondeos realizados anteriormente.<a class=\"tocSkip\"></a>"
   ]
  }
 ],
 "metadata": {
  "ExecuteTimeLog": [
   {
    "duration": 828,
    "start_time": "2021-11-16T09:21:11.304Z"
   },
   {
    "duration": 893,
    "start_time": "2021-11-16T09:21:17.728Z"
   },
   {
    "duration": 1150,
    "start_time": "2021-11-16T09:21:29.568Z"
   },
   {
    "duration": 3,
    "start_time": "2021-11-16T09:24:14.495Z"
   },
   {
    "duration": 120,
    "start_time": "2021-11-16T09:24:46.630Z"
   },
   {
    "duration": 3,
    "start_time": "2021-11-16T09:28:27.882Z"
   },
   {
    "duration": 4,
    "start_time": "2021-11-16T09:29:54.281Z"
   },
   {
    "duration": 3,
    "start_time": "2021-11-16T09:30:45.936Z"
   },
   {
    "duration": 4,
    "start_time": "2021-11-16T09:31:06.300Z"
   },
   {
    "duration": 113,
    "start_time": "2021-11-16T09:31:37.208Z"
   },
   {
    "duration": 143,
    "start_time": "2021-11-16T09:31:48.656Z"
   },
   {
    "duration": 98,
    "start_time": "2021-11-16T09:31:55.678Z"
   },
   {
    "duration": 3,
    "start_time": "2021-11-16T09:32:08.535Z"
   },
   {
    "duration": 111,
    "start_time": "2021-11-16T09:32:10.120Z"
   },
   {
    "duration": 3,
    "start_time": "2021-11-16T09:32:15.732Z"
   },
   {
    "duration": 4,
    "start_time": "2021-11-16T09:32:29.423Z"
   },
   {
    "duration": 3,
    "start_time": "2021-11-16T10:03:03.074Z"
   },
   {
    "duration": 3,
    "start_time": "2021-11-16T10:10:01.288Z"
   },
   {
    "duration": 3,
    "start_time": "2021-11-16T10:10:46.923Z"
   },
   {
    "duration": 121,
    "start_time": "2021-11-16T10:37:46.494Z"
   },
   {
    "duration": 125,
    "start_time": "2021-11-16T10:38:20.632Z"
   },
   {
    "duration": 112,
    "start_time": "2021-11-16T10:46:53.001Z"
   },
   {
    "duration": 110,
    "start_time": "2021-11-16T10:48:25.775Z"
   },
   {
    "duration": 3,
    "start_time": "2021-11-16T10:50:18.720Z"
   },
   {
    "duration": 4,
    "start_time": "2021-11-16T10:50:37.649Z"
   },
   {
    "duration": 2,
    "start_time": "2021-11-16T10:50:51.884Z"
   },
   {
    "duration": 3,
    "start_time": "2021-11-16T10:51:56.237Z"
   },
   {
    "duration": 101,
    "start_time": "2021-11-16T10:53:13.791Z"
   },
   {
    "duration": 3,
    "start_time": "2021-11-16T10:55:59.186Z"
   },
   {
    "duration": 3,
    "start_time": "2021-11-16T10:56:10.751Z"
   },
   {
    "duration": 3,
    "start_time": "2021-11-16T10:56:49.038Z"
   },
   {
    "duration": 3,
    "start_time": "2021-11-16T10:56:49.174Z"
   },
   {
    "duration": 4,
    "start_time": "2021-11-16T10:56:49.414Z"
   },
   {
    "duration": 3,
    "start_time": "2021-11-16T10:56:49.680Z"
   },
   {
    "duration": 3,
    "start_time": "2021-11-16T10:56:50.370Z"
   },
   {
    "duration": 114,
    "start_time": "2021-11-16T10:59:34.518Z"
   },
   {
    "duration": 3,
    "start_time": "2021-11-16T11:01:41.201Z"
   },
   {
    "duration": 116,
    "start_time": "2021-11-16T11:01:48.754Z"
   },
   {
    "duration": 3,
    "start_time": "2021-11-16T11:02:16.685Z"
   },
   {
    "duration": 3,
    "start_time": "2021-11-16T11:02:19.479Z"
   },
   {
    "duration": 3,
    "start_time": "2021-11-16T11:02:47.067Z"
   },
   {
    "duration": 3,
    "start_time": "2021-11-16T11:02:49.353Z"
   },
   {
    "duration": 3,
    "start_time": "2021-11-16T11:03:07.835Z"
   },
   {
    "duration": 3,
    "start_time": "2021-11-16T11:03:07.953Z"
   },
   {
    "duration": 112,
    "start_time": "2021-11-16T11:07:52.072Z"
   },
   {
    "duration": 187,
    "start_time": "2021-11-16T11:09:23.468Z"
   },
   {
    "duration": 4,
    "start_time": "2021-11-16T11:10:01.455Z"
   },
   {
    "duration": 3,
    "start_time": "2021-11-16T11:10:05.069Z"
   },
   {
    "duration": 4,
    "start_time": "2021-11-16T11:10:13.376Z"
   },
   {
    "duration": 3,
    "start_time": "2021-11-16T11:10:14.434Z"
   },
   {
    "duration": 3,
    "start_time": "2021-11-16T11:10:22.853Z"
   },
   {
    "duration": 4,
    "start_time": "2021-11-16T11:27:29.279Z"
   },
   {
    "duration": 4,
    "start_time": "2021-11-16T11:29:08.919Z"
   },
   {
    "duration": 118,
    "start_time": "2021-11-16T11:29:46.703Z"
   },
   {
    "duration": 437,
    "start_time": "2021-11-16T11:36:02.181Z"
   },
   {
    "duration": 157,
    "start_time": "2021-11-16T11:36:14.388Z"
   },
   {
    "duration": 207,
    "start_time": "2021-11-16T11:47:15.898Z"
   },
   {
    "duration": 3,
    "start_time": "2021-11-16T11:53:52.092Z"
   },
   {
    "duration": 3,
    "start_time": "2021-11-16T11:53:52.236Z"
   },
   {
    "duration": 3,
    "start_time": "2021-11-16T11:59:12.005Z"
   },
   {
    "duration": 112,
    "start_time": "2021-11-16T12:00:33.446Z"
   },
   {
    "duration": 3,
    "start_time": "2021-11-16T12:02:14.453Z"
   },
   {
    "duration": 3,
    "start_time": "2021-11-16T12:02:39.512Z"
   },
   {
    "duration": 106,
    "start_time": "2021-11-16T12:03:03.460Z"
   },
   {
    "duration": 3,
    "start_time": "2021-11-17T20:37:21.139Z"
   },
   {
    "duration": 3,
    "start_time": "2021-11-17T20:37:22.229Z"
   },
   {
    "duration": 3,
    "start_time": "2021-11-17T20:38:38.806Z"
   },
   {
    "duration": 3,
    "start_time": "2021-11-17T20:38:41.958Z"
   },
   {
    "duration": 3,
    "start_time": "2021-11-17T20:43:46.551Z"
   },
   {
    "duration": 4,
    "start_time": "2021-11-17T20:58:21.835Z"
   },
   {
    "duration": 3,
    "start_time": "2021-11-17T20:59:21.872Z"
   },
   {
    "duration": 4,
    "start_time": "2021-11-17T20:59:45.352Z"
   },
   {
    "duration": 4,
    "start_time": "2021-11-17T20:59:49.646Z"
   },
   {
    "duration": 159,
    "start_time": "2021-11-17T21:02:26.949Z"
   },
   {
    "duration": 3,
    "start_time": "2021-11-17T21:03:53.461Z"
   },
   {
    "duration": 3,
    "start_time": "2021-11-17T21:03:53.694Z"
   },
   {
    "duration": 3,
    "start_time": "2021-11-17T21:05:28.145Z"
   },
   {
    "duration": 116,
    "start_time": "2021-11-17T21:05:57.787Z"
   },
   {
    "duration": 3,
    "start_time": "2021-11-17T21:06:37.993Z"
   },
   {
    "duration": 3,
    "start_time": "2021-11-17T21:06:38.261Z"
   },
   {
    "duration": 3,
    "start_time": "2021-11-17T21:11:54.358Z"
   },
   {
    "duration": 3,
    "start_time": "2021-11-17T21:12:43.846Z"
   },
   {
    "duration": 4,
    "start_time": "2021-11-17T21:13:08.773Z"
   },
   {
    "duration": 3,
    "start_time": "2021-11-17T21:14:44.441Z"
   },
   {
    "duration": 3,
    "start_time": "2021-11-17T21:15:42.059Z"
   },
   {
    "duration": 4,
    "start_time": "2021-11-17T21:15:51.995Z"
   },
   {
    "duration": 3,
    "start_time": "2021-11-17T21:15:53.923Z"
   },
   {
    "duration": 3,
    "start_time": "2021-11-17T21:15:55.282Z"
   },
   {
    "duration": 3,
    "start_time": "2021-11-17T21:16:28.492Z"
   },
   {
    "duration": 3,
    "start_time": "2021-11-17T21:16:32.603Z"
   },
   {
    "duration": 3,
    "start_time": "2021-11-17T21:17:06.941Z"
   },
   {
    "duration": 98,
    "start_time": "2021-11-17T21:18:05.733Z"
   },
   {
    "duration": 4,
    "start_time": "2021-11-17T21:21:35.255Z"
   },
   {
    "duration": 3,
    "start_time": "2021-11-17T21:21:37.804Z"
   },
   {
    "duration": 4,
    "start_time": "2021-11-17T21:23:06.071Z"
   },
   {
    "duration": 3,
    "start_time": "2021-11-17T21:23:24.799Z"
   },
   {
    "duration": 3,
    "start_time": "2021-11-17T21:23:32.591Z"
   },
   {
    "duration": 98,
    "start_time": "2021-11-17T21:28:31.559Z"
   },
   {
    "duration": 3,
    "start_time": "2021-11-17T21:28:45.448Z"
   },
   {
    "duration": 3,
    "start_time": "2021-11-17T21:29:17.303Z"
   },
   {
    "duration": 3,
    "start_time": "2021-11-17T21:29:29.617Z"
   },
   {
    "duration": 3,
    "start_time": "2021-11-17T21:29:32.681Z"
   },
   {
    "duration": 3,
    "start_time": "2021-11-17T21:36:11.474Z"
   },
   {
    "duration": 3,
    "start_time": "2021-11-17T21:36:14.791Z"
   },
   {
    "duration": 3,
    "start_time": "2021-11-17T21:36:53.943Z"
   },
   {
    "duration": 3,
    "start_time": "2021-11-17T21:36:56.165Z"
   },
   {
    "duration": 4,
    "start_time": "2021-11-17T21:37:16.590Z"
   },
   {
    "duration": 3,
    "start_time": "2021-11-17T21:37:22.702Z"
   },
   {
    "duration": 4,
    "start_time": "2021-11-17T21:38:03.479Z"
   },
   {
    "duration": 3,
    "start_time": "2021-11-17T21:38:08.601Z"
   },
   {
    "duration": 3,
    "start_time": "2021-11-17T21:38:12.928Z"
   },
   {
    "duration": 3,
    "start_time": "2021-11-17T21:38:48.896Z"
   },
   {
    "duration": 2,
    "start_time": "2021-11-17T21:38:49.171Z"
   },
   {
    "duration": 4,
    "start_time": "2021-11-17T21:39:57.889Z"
   },
   {
    "duration": 3,
    "start_time": "2021-11-17T21:39:58.057Z"
   },
   {
    "duration": 3,
    "start_time": "2021-11-17T21:41:20.108Z"
   },
   {
    "duration": 3,
    "start_time": "2021-11-17T21:41:20.629Z"
   },
   {
    "duration": 3,
    "start_time": "2021-11-17T21:42:49.136Z"
   },
   {
    "duration": 3,
    "start_time": "2021-11-17T21:43:15.137Z"
   },
   {
    "duration": 4,
    "start_time": "2021-11-17T21:43:16.766Z"
   },
   {
    "duration": 4,
    "start_time": "2021-11-17T21:43:31.711Z"
   },
   {
    "duration": 3,
    "start_time": "2021-11-17T21:43:36.312Z"
   },
   {
    "duration": 4,
    "start_time": "2021-11-17T21:45:08.825Z"
   },
   {
    "duration": 4,
    "start_time": "2021-11-17T21:45:10.119Z"
   },
   {
    "duration": 4,
    "start_time": "2021-11-17T21:45:13.748Z"
   },
   {
    "duration": 3,
    "start_time": "2021-11-17T21:45:22.219Z"
   },
   {
    "duration": 3,
    "start_time": "2021-11-17T21:45:33.412Z"
   },
   {
    "duration": 2,
    "start_time": "2021-11-17T21:46:01.885Z"
   },
   {
    "duration": 3,
    "start_time": "2021-11-17T21:46:03.628Z"
   },
   {
    "duration": 107,
    "start_time": "2021-11-17T21:47:32.512Z"
   },
   {
    "duration": 103,
    "start_time": "2021-11-17T21:50:36.243Z"
   },
   {
    "duration": 3,
    "start_time": "2021-11-18T06:28:31.440Z"
   },
   {
    "duration": 3,
    "start_time": "2021-11-18T06:29:00.168Z"
   },
   {
    "duration": 3,
    "start_time": "2021-11-18T06:31:27.008Z"
   },
   {
    "duration": 2,
    "start_time": "2021-11-18T06:35:34.288Z"
   },
   {
    "duration": 2,
    "start_time": "2021-11-18T06:38:04.527Z"
   },
   {
    "duration": 2619,
    "start_time": "2025-04-29T02:33:13.919Z"
   },
   {
    "duration": 887,
    "start_time": "2025-04-29T02:33:20.051Z"
   },
   {
    "duration": 301,
    "start_time": "2025-04-29T02:35:53.151Z"
   },
   {
    "duration": 412,
    "start_time": "2025-04-29T02:36:03.279Z"
   },
   {
    "duration": 83,
    "start_time": "2025-04-29T02:38:27.855Z"
   },
   {
    "duration": 57,
    "start_time": "2025-04-29T02:38:51.092Z"
   },
   {
    "duration": 57,
    "start_time": "2025-04-29T02:39:20.671Z"
   },
   {
    "duration": 301,
    "start_time": "2025-04-29T02:40:51.520Z"
   },
   {
    "duration": 284,
    "start_time": "2025-04-29T02:41:06.431Z"
   },
   {
    "duration": 3,
    "start_time": "2025-04-29T02:43:26.816Z"
   },
   {
    "duration": 3,
    "start_time": "2025-04-29T02:45:25.709Z"
   },
   {
    "duration": 264,
    "start_time": "2025-04-29T02:45:27.702Z"
   },
   {
    "duration": 267,
    "start_time": "2025-04-29T02:49:29.168Z"
   },
   {
    "duration": 228,
    "start_time": "2025-04-29T02:50:46.621Z"
   },
   {
    "duration": 268,
    "start_time": "2025-04-29T02:50:51.987Z"
   },
   {
    "duration": 787,
    "start_time": "2025-04-29T02:55:31.814Z"
   },
   {
    "duration": 775,
    "start_time": "2025-04-29T02:55:35.092Z"
   },
   {
    "duration": 802,
    "start_time": "2025-04-29T03:02:00.934Z"
   },
   {
    "duration": 811,
    "start_time": "2025-04-29T03:02:05.392Z"
   },
   {
    "duration": 8,
    "start_time": "2025-04-29T03:13:22.264Z"
   },
   {
    "duration": 99,
    "start_time": "2025-04-29T03:13:56.325Z"
   },
   {
    "duration": 146,
    "start_time": "2025-04-29T03:14:13.955Z"
   },
   {
    "duration": 214,
    "start_time": "2025-04-29T03:14:26.153Z"
   },
   {
    "duration": 265,
    "start_time": "2025-04-29T03:14:41.281Z"
   },
   {
    "duration": 215,
    "start_time": "2025-04-29T03:15:35.970Z"
   },
   {
    "duration": 9,
    "start_time": "2025-04-29T03:16:12.691Z"
   },
   {
    "duration": 216,
    "start_time": "2025-04-29T03:16:44.477Z"
   },
   {
    "duration": 8,
    "start_time": "2025-04-29T03:16:46.062Z"
   },
   {
    "duration": 267,
    "start_time": "2025-04-29T03:18:56.573Z"
   },
   {
    "duration": 208,
    "start_time": "2025-04-29T03:21:12.951Z"
   },
   {
    "duration": 42,
    "start_time": "2025-04-29T03:21:30.600Z"
   },
   {
    "duration": 274,
    "start_time": "2025-04-29T03:22:34.277Z"
   },
   {
    "duration": 10,
    "start_time": "2025-04-29T03:22:53.150Z"
   },
   {
    "duration": 2952,
    "start_time": "2025-04-30T02:32:17.343Z"
   },
   {
    "duration": 226,
    "start_time": "2025-04-30T02:32:23.411Z"
   },
   {
    "duration": 9,
    "start_time": "2025-04-30T02:34:25.925Z"
   },
   {
    "duration": 9,
    "start_time": "2025-04-30T02:37:04.955Z"
   },
   {
    "duration": 9,
    "start_time": "2025-04-30T02:41:19.194Z"
   },
   {
    "duration": 11,
    "start_time": "2025-04-30T02:57:07.851Z"
   },
   {
    "duration": 9,
    "start_time": "2025-04-30T03:02:53.416Z"
   },
   {
    "duration": 4,
    "start_time": "2025-04-30T03:04:40.087Z"
   },
   {
    "duration": 4,
    "start_time": "2025-04-30T03:04:47.396Z"
   },
   {
    "duration": 219,
    "start_time": "2025-04-30T03:05:25.035Z"
   },
   {
    "duration": 9,
    "start_time": "2025-04-30T03:05:34.563Z"
   },
   {
    "duration": 9,
    "start_time": "2025-04-30T03:08:47.597Z"
   },
   {
    "duration": 8,
    "start_time": "2025-04-30T03:23:40.707Z"
   },
   {
    "duration": 13,
    "start_time": "2025-04-30T03:23:46.980Z"
   },
   {
    "duration": 6,
    "start_time": "2025-04-30T03:29:21.805Z"
   },
   {
    "duration": 5,
    "start_time": "2025-04-30T03:29:29.196Z"
   },
   {
    "duration": 9,
    "start_time": "2025-04-30T03:29:41.524Z"
   },
   {
    "duration": 9,
    "start_time": "2025-04-30T03:29:51.871Z"
   },
   {
    "duration": 2605,
    "start_time": "2025-05-01T02:15:03.059Z"
   },
   {
    "duration": 222,
    "start_time": "2025-05-01T02:15:07.176Z"
   },
   {
    "duration": 10,
    "start_time": "2025-05-01T02:15:13.596Z"
   },
   {
    "duration": 11,
    "start_time": "2025-05-01T02:15:16.389Z"
   },
   {
    "duration": 9,
    "start_time": "2025-05-01T02:15:23.578Z"
   },
   {
    "duration": 9,
    "start_time": "2025-05-01T02:15:34.194Z"
   },
   {
    "duration": 13,
    "start_time": "2025-05-01T02:49:01.430Z"
   },
   {
    "duration": 9,
    "start_time": "2025-05-01T02:50:05.233Z"
   },
   {
    "duration": 13,
    "start_time": "2025-05-01T02:55:24.377Z"
   },
   {
    "duration": 13,
    "start_time": "2025-05-01T02:55:41.761Z"
   },
   {
    "duration": 12,
    "start_time": "2025-05-01T02:55:56.213Z"
   },
   {
    "duration": 16,
    "start_time": "2025-05-01T03:02:52.624Z"
   },
   {
    "duration": 8,
    "start_time": "2025-05-01T03:15:43.755Z"
   },
   {
    "duration": 225,
    "start_time": "2025-05-01T03:16:51.332Z"
   },
   {
    "duration": 75,
    "start_time": "2025-05-01T03:18:31.899Z"
   },
   {
    "duration": 86,
    "start_time": "2025-05-01T03:19:06.851Z"
   },
   {
    "duration": 27,
    "start_time": "2025-05-01T03:22:34.258Z"
   },
   {
    "duration": 41,
    "start_time": "2025-05-01T03:23:24.580Z"
   },
   {
    "duration": 8,
    "start_time": "2025-05-01T03:24:48.119Z"
   },
   {
    "duration": 32,
    "start_time": "2025-05-01T03:25:29.236Z"
   },
   {
    "duration": 8,
    "start_time": "2025-05-01T03:28:36.615Z"
   },
   {
    "duration": 11,
    "start_time": "2025-05-01T03:29:02.102Z"
   },
   {
    "duration": 9,
    "start_time": "2025-05-01T03:29:14.967Z"
   },
   {
    "duration": 20,
    "start_time": "2025-05-01T03:29:31.851Z"
   },
   {
    "duration": 12,
    "start_time": "2025-05-01T03:29:38.262Z"
   },
   {
    "duration": 12,
    "start_time": "2025-05-01T03:29:45.928Z"
   },
   {
    "duration": 15,
    "start_time": "2025-05-01T03:29:51.613Z"
   },
   {
    "duration": 12,
    "start_time": "2025-05-01T03:30:01.236Z"
   },
   {
    "duration": 12,
    "start_time": "2025-05-01T03:30:07.453Z"
   },
   {
    "duration": 14,
    "start_time": "2025-05-01T03:30:12.101Z"
   },
   {
    "duration": 14,
    "start_time": "2025-05-01T03:31:16.599Z"
   },
   {
    "duration": 14,
    "start_time": "2025-05-01T03:31:54.581Z"
   },
   {
    "duration": 8,
    "start_time": "2025-05-01T03:32:04.274Z"
   },
   {
    "duration": 2474,
    "start_time": "2025-05-01T17:07:23.079Z"
   },
   {
    "duration": 228,
    "start_time": "2025-05-01T17:07:28.661Z"
   },
   {
    "duration": 10,
    "start_time": "2025-05-01T17:07:32.664Z"
   },
   {
    "duration": 10,
    "start_time": "2025-05-01T17:07:33.510Z"
   },
   {
    "duration": 10,
    "start_time": "2025-05-01T17:07:36.227Z"
   },
   {
    "duration": 8,
    "start_time": "2025-05-01T17:07:39.883Z"
   },
   {
    "duration": 8,
    "start_time": "2025-05-01T17:07:41.025Z"
   },
   {
    "duration": 13,
    "start_time": "2025-05-01T17:07:51.983Z"
   },
   {
    "duration": 17,
    "start_time": "2025-05-01T17:07:57.660Z"
   },
   {
    "duration": 8,
    "start_time": "2025-05-01T17:08:01.573Z"
   },
   {
    "duration": 90,
    "start_time": "2025-05-01T17:09:09.345Z"
   },
   {
    "duration": 13,
    "start_time": "2025-05-01T17:39:42.247Z"
   },
   {
    "duration": 7,
    "start_time": "2025-05-01T17:39:54.241Z"
   },
   {
    "duration": 58,
    "start_time": "2025-05-01T17:44:41.949Z"
   },
   {
    "duration": 23,
    "start_time": "2025-05-01T17:45:06.534Z"
   },
   {
    "duration": 22,
    "start_time": "2025-05-01T17:45:32.105Z"
   },
   {
    "duration": 3096,
    "start_time": "2025-05-06T02:47:08.810Z"
   },
   {
    "duration": 247,
    "start_time": "2025-05-06T02:47:11.908Z"
   },
   {
    "duration": 10,
    "start_time": "2025-05-06T02:47:14.296Z"
   },
   {
    "duration": 10,
    "start_time": "2025-05-06T02:47:14.718Z"
   },
   {
    "duration": 11,
    "start_time": "2025-05-06T02:47:16.388Z"
   },
   {
    "duration": 12,
    "start_time": "2025-05-06T02:47:18.549Z"
   },
   {
    "duration": 11,
    "start_time": "2025-05-06T02:47:18.973Z"
   },
   {
    "duration": 16,
    "start_time": "2025-05-06T02:47:21.168Z"
   },
   {
    "duration": 15,
    "start_time": "2025-05-06T02:47:23.780Z"
   },
   {
    "duration": 8,
    "start_time": "2025-05-06T02:47:24.822Z"
   },
   {
    "duration": 113,
    "start_time": "2025-05-06T02:47:28.299Z"
   },
   {
    "duration": 12,
    "start_time": "2025-05-06T02:47:32.715Z"
   },
   {
    "duration": 9,
    "start_time": "2025-05-06T02:47:36.870Z"
   },
   {
    "duration": 66,
    "start_time": "2025-05-06T02:47:44.251Z"
   },
   {
    "duration": 13,
    "start_time": "2025-05-06T02:49:18.428Z"
   },
   {
    "duration": 10,
    "start_time": "2025-05-06T02:53:20.971Z"
   },
   {
    "duration": 109,
    "start_time": "2025-05-06T03:10:49.849Z"
   },
   {
    "duration": 5,
    "start_time": "2025-05-06T03:15:54.152Z"
   },
   {
    "duration": 7,
    "start_time": "2025-05-06T03:16:29.602Z"
   },
   {
    "duration": 233,
    "start_time": "2025-05-06T03:40:04.566Z"
   },
   {
    "duration": 26,
    "start_time": "2025-05-06T03:40:10.639Z"
   },
   {
    "duration": 6,
    "start_time": "2025-05-06T03:41:47.556Z"
   },
   {
    "duration": 180,
    "start_time": "2025-05-06T03:42:01.884Z"
   },
   {
    "duration": 4,
    "start_time": "2025-05-06T03:42:12.035Z"
   },
   {
    "duration": 82,
    "start_time": "2025-05-06T03:42:28.737Z"
   },
   {
    "duration": 103,
    "start_time": "2025-05-06T03:42:48.985Z"
   },
   {
    "duration": 5,
    "start_time": "2025-05-06T04:45:29.951Z"
   },
   {
    "duration": 3,
    "start_time": "2025-05-06T04:45:37.029Z"
   },
   {
    "duration": 22,
    "start_time": "2025-05-06T04:46:36.969Z"
   },
   {
    "duration": 12,
    "start_time": "2025-05-06T04:47:39.212Z"
   },
   {
    "duration": 20,
    "start_time": "2025-05-06T04:50:43.214Z"
   },
   {
    "duration": 79,
    "start_time": "2025-05-06T04:52:31.614Z"
   },
   {
    "duration": 65,
    "start_time": "2025-05-06T04:52:40.728Z"
   },
   {
    "duration": 29,
    "start_time": "2025-05-06T04:53:40.161Z"
   },
   {
    "duration": 63,
    "start_time": "2025-05-06T04:54:33.665Z"
   },
   {
    "duration": 62,
    "start_time": "2025-05-06T04:55:00.308Z"
   },
   {
    "duration": 7,
    "start_time": "2025-05-06T04:56:00.756Z"
   },
   {
    "duration": 62,
    "start_time": "2025-05-06T04:56:12.341Z"
   },
   {
    "duration": 10,
    "start_time": "2025-05-07T03:58:35.992Z"
   },
   {
    "duration": 2648,
    "start_time": "2025-05-07T03:58:47.629Z"
   },
   {
    "duration": 236,
    "start_time": "2025-05-07T03:58:50.279Z"
   },
   {
    "duration": 10,
    "start_time": "2025-05-07T03:58:50.517Z"
   },
   {
    "duration": 10,
    "start_time": "2025-05-07T03:58:50.529Z"
   },
   {
    "duration": 11,
    "start_time": "2025-05-07T03:58:50.541Z"
   },
   {
    "duration": 11,
    "start_time": "2025-05-07T03:58:50.555Z"
   },
   {
    "duration": 10,
    "start_time": "2025-05-07T03:58:50.571Z"
   },
   {
    "duration": 13,
    "start_time": "2025-05-07T03:58:51.222Z"
   },
   {
    "duration": 16,
    "start_time": "2025-05-07T03:58:52.035Z"
   },
   {
    "duration": 8,
    "start_time": "2025-05-07T03:58:52.210Z"
   },
   {
    "duration": 91,
    "start_time": "2025-05-07T03:58:52.903Z"
   },
   {
    "duration": 13,
    "start_time": "2025-05-07T03:58:54.097Z"
   },
   {
    "duration": 7,
    "start_time": "2025-05-07T03:58:54.300Z"
   },
   {
    "duration": 53,
    "start_time": "2025-05-07T03:58:55.428Z"
   },
   {
    "duration": 14,
    "start_time": "2025-05-07T03:58:56.924Z"
   },
   {
    "duration": 9,
    "start_time": "2025-05-07T03:58:57.329Z"
   },
   {
    "duration": 71,
    "start_time": "2025-05-07T03:58:59.480Z"
   },
   {
    "duration": 8,
    "start_time": "2025-05-07T03:59:05.295Z"
   },
   {
    "duration": 5,
    "start_time": "2025-05-07T03:59:08.793Z"
   },
   {
    "duration": 22,
    "start_time": "2025-05-07T04:13:34.953Z"
   },
   {
    "duration": 236,
    "start_time": "2025-05-07T04:13:52.481Z"
   },
   {
    "duration": 26,
    "start_time": "2025-05-07T04:13:57.209Z"
   },
   {
    "duration": 24,
    "start_time": "2025-05-07T04:18:14.893Z"
   },
   {
    "duration": 26,
    "start_time": "2025-05-07T04:18:29.832Z"
   },
   {
    "duration": 26,
    "start_time": "2025-05-07T04:20:04.639Z"
   },
   {
    "duration": 22,
    "start_time": "2025-05-07T04:50:27.275Z"
   },
   {
    "duration": 24,
    "start_time": "2025-05-07T04:51:04.521Z"
   },
   {
    "duration": 18,
    "start_time": "2025-05-07T05:00:03.872Z"
   },
   {
    "duration": 31,
    "start_time": "2025-05-07T05:01:53.105Z"
   },
   {
    "duration": 32,
    "start_time": "2025-05-07T05:02:13.336Z"
   },
   {
    "duration": 23,
    "start_time": "2025-05-07T05:03:07.927Z"
   },
   {
    "duration": 33,
    "start_time": "2025-05-07T05:05:55.135Z"
   },
   {
    "duration": 33,
    "start_time": "2025-05-07T05:06:14.782Z"
   },
   {
    "duration": 29,
    "start_time": "2025-05-07T05:13:27.037Z"
   },
   {
    "duration": 36,
    "start_time": "2025-05-07T05:14:11.928Z"
   },
   {
    "duration": 29,
    "start_time": "2025-05-07T05:14:32.533Z"
   },
   {
    "duration": 32,
    "start_time": "2025-05-07T05:14:49.068Z"
   },
   {
    "duration": 48,
    "start_time": "2025-05-07T05:15:35.188Z"
   },
   {
    "duration": 31,
    "start_time": "2025-05-07T05:18:16.515Z"
   },
   {
    "duration": 21,
    "start_time": "2025-05-07T05:18:21.613Z"
   },
   {
    "duration": 22,
    "start_time": "2025-05-07T05:19:17.336Z"
   },
   {
    "duration": 36,
    "start_time": "2025-05-07T05:19:36.524Z"
   },
   {
    "duration": 4,
    "start_time": "2025-05-07T05:19:45.332Z"
   },
   {
    "duration": 23,
    "start_time": "2025-05-07T05:19:52.590Z"
   },
   {
    "duration": 2,
    "start_time": "2025-05-07T05:19:52.706Z"
   },
   {
    "duration": 22,
    "start_time": "2025-05-07T05:20:10.851Z"
   },
   {
    "duration": 22,
    "start_time": "2025-05-07T05:20:57.509Z"
   },
   {
    "duration": 21,
    "start_time": "2025-05-07T05:21:18.156Z"
   },
   {
    "duration": 21,
    "start_time": "2025-05-07T05:21:56.669Z"
   },
   {
    "duration": 16,
    "start_time": "2025-05-07T05:22:36.099Z"
   },
   {
    "duration": 16,
    "start_time": "2025-05-07T05:29:07.176Z"
   },
   {
    "duration": 18,
    "start_time": "2025-05-07T05:30:15.020Z"
   },
   {
    "duration": 17,
    "start_time": "2025-05-07T05:30:24.424Z"
   },
   {
    "duration": 24,
    "start_time": "2025-05-07T05:30:38.962Z"
   },
   {
    "duration": 22,
    "start_time": "2025-05-07T05:30:43.036Z"
   },
   {
    "duration": 17,
    "start_time": "2025-05-07T05:30:45.760Z"
   },
   {
    "duration": 17,
    "start_time": "2025-05-07T05:32:51.313Z"
   },
   {
    "duration": 17,
    "start_time": "2025-05-07T05:57:12.486Z"
   },
   {
    "duration": 16,
    "start_time": "2025-05-07T05:57:27.998Z"
   },
   {
    "duration": 17,
    "start_time": "2025-05-07T05:58:56.166Z"
   },
   {
    "duration": 10,
    "start_time": "2025-05-07T06:05:12.518Z"
   },
   {
    "duration": 9,
    "start_time": "2025-05-07T06:06:10.280Z"
   },
   {
    "duration": 12,
    "start_time": "2025-05-07T06:07:04.039Z"
   },
   {
    "duration": 15,
    "start_time": "2025-05-07T06:07:34.871Z"
   },
   {
    "duration": 16,
    "start_time": "2025-05-07T06:10:50.294Z"
   },
   {
    "duration": 16,
    "start_time": "2025-05-07T06:12:31.118Z"
   },
   {
    "duration": 16,
    "start_time": "2025-05-07T06:15:48.053Z"
   },
   {
    "duration": 4,
    "start_time": "2025-05-07T06:16:23.854Z"
   },
   {
    "duration": 16,
    "start_time": "2025-05-07T06:16:35.429Z"
   },
   {
    "duration": 16,
    "start_time": "2025-05-07T06:17:04.459Z"
   },
   {
    "duration": 18,
    "start_time": "2025-05-07T06:19:39.409Z"
   },
   {
    "duration": 23,
    "start_time": "2025-05-07T06:21:34.349Z"
   },
   {
    "duration": 16,
    "start_time": "2025-05-07T06:21:39.883Z"
   },
   {
    "duration": 24,
    "start_time": "2025-05-07T06:22:09.636Z"
   },
   {
    "duration": 18,
    "start_time": "2025-05-07T06:22:13.677Z"
   },
   {
    "duration": 16,
    "start_time": "2025-05-07T06:22:23.978Z"
   },
   {
    "duration": 17,
    "start_time": "2025-05-07T06:22:27.989Z"
   },
   {
    "duration": 15,
    "start_time": "2025-05-07T06:22:40.916Z"
   },
   {
    "duration": 632,
    "start_time": "2025-05-07T06:24:46.732Z"
   },
   {
    "duration": 64,
    "start_time": "2025-05-07T06:25:28.444Z"
   },
   {
    "duration": 15,
    "start_time": "2025-05-07T06:29:33.310Z"
   },
   {
    "duration": 16,
    "start_time": "2025-05-07T06:29:41.729Z"
   },
   {
    "duration": 7,
    "start_time": "2025-05-07T06:46:37.605Z"
   },
   {
    "duration": 12,
    "start_time": "2025-05-07T06:46:51.646Z"
   },
   {
    "duration": 2,
    "start_time": "2025-05-07T06:48:41.174Z"
   },
   {
    "duration": 17,
    "start_time": "2025-05-07T06:48:45.088Z"
   },
   {
    "duration": 2500,
    "start_time": "2025-05-08T03:55:49.542Z"
   },
   {
    "duration": 224,
    "start_time": "2025-05-08T03:55:54.046Z"
   },
   {
    "duration": 9,
    "start_time": "2025-05-08T03:55:54.710Z"
   },
   {
    "duration": 10,
    "start_time": "2025-05-08T03:55:54.866Z"
   },
   {
    "duration": 10,
    "start_time": "2025-05-08T03:55:55.483Z"
   },
   {
    "duration": 9,
    "start_time": "2025-05-08T03:55:56.290Z"
   },
   {
    "duration": 9,
    "start_time": "2025-05-08T03:55:56.450Z"
   },
   {
    "duration": 13,
    "start_time": "2025-05-08T03:55:57.100Z"
   },
   {
    "duration": 16,
    "start_time": "2025-05-08T03:55:58.526Z"
   },
   {
    "duration": 8,
    "start_time": "2025-05-08T03:55:58.818Z"
   },
   {
    "duration": 89,
    "start_time": "2025-05-08T03:56:00.021Z"
   },
   {
    "duration": 21,
    "start_time": "2025-05-08T03:56:00.973Z"
   },
   {
    "duration": 13,
    "start_time": "2025-05-08T03:56:01.684Z"
   },
   {
    "duration": 7,
    "start_time": "2025-05-08T03:56:01.975Z"
   },
   {
    "duration": 68,
    "start_time": "2025-05-08T03:56:03.486Z"
   },
   {
    "duration": 15,
    "start_time": "2025-05-08T03:56:04.413Z"
   },
   {
    "duration": 16,
    "start_time": "2025-05-08T03:56:05.014Z"
   },
   {
    "duration": 7,
    "start_time": "2025-05-08T03:56:05.271Z"
   },
   {
    "duration": 71,
    "start_time": "2025-05-08T03:56:06.673Z"
   },
   {
    "duration": 16,
    "start_time": "2025-05-08T03:56:07.703Z"
   },
   {
    "duration": 8,
    "start_time": "2025-05-08T03:56:09.908Z"
   },
   {
    "duration": 25,
    "start_time": "2025-05-08T03:56:11.327Z"
   },
   {
    "duration": 25,
    "start_time": "2025-05-08T03:56:11.991Z"
   },
   {
    "duration": 16,
    "start_time": "2025-05-08T03:56:19.912Z"
   },
   {
    "duration": 16,
    "start_time": "2025-05-08T03:56:21.742Z"
   },
   {
    "duration": 25,
    "start_time": "2025-05-08T03:56:25.414Z"
   },
   {
    "duration": 2,
    "start_time": "2025-05-08T03:56:27.633Z"
   },
   {
    "duration": 12,
    "start_time": "2025-05-08T04:11:21.553Z"
   },
   {
    "duration": 12,
    "start_time": "2025-05-08T04:16:38.994Z"
   },
   {
    "duration": 2,
    "start_time": "2025-05-08T04:18:26.392Z"
   },
   {
    "duration": 13,
    "start_time": "2025-05-08T04:18:29.427Z"
   },
   {
    "duration": 25,
    "start_time": "2025-05-08T04:35:24.381Z"
   },
   {
    "duration": 17,
    "start_time": "2025-05-08T04:35:46.725Z"
   },
   {
    "duration": 15,
    "start_time": "2025-05-08T04:36:14.462Z"
   },
   {
    "duration": 12,
    "start_time": "2025-05-08T04:36:55.391Z"
   },
   {
    "duration": 13,
    "start_time": "2025-05-08T04:37:07.445Z"
   },
   {
    "duration": 14,
    "start_time": "2025-05-08T04:38:08.991Z"
   },
   {
    "duration": 7,
    "start_time": "2025-05-08T04:41:58.753Z"
   },
   {
    "duration": 10,
    "start_time": "2025-05-08T04:42:33.965Z"
   },
   {
    "duration": 15,
    "start_time": "2025-05-08T04:42:44.898Z"
   },
   {
    "duration": 15,
    "start_time": "2025-05-08T04:42:57.041Z"
   },
   {
    "duration": 124,
    "start_time": "2025-05-08T04:49:15.499Z"
   },
   {
    "duration": 22,
    "start_time": "2025-05-08T05:04:04.957Z"
   },
   {
    "duration": 28,
    "start_time": "2025-05-08T05:04:31.944Z"
   },
   {
    "duration": 19,
    "start_time": "2025-05-08T05:06:21.080Z"
   },
   {
    "duration": 12,
    "start_time": "2025-05-08T05:08:11.594Z"
   },
   {
    "duration": 52,
    "start_time": "2025-05-08T05:09:15.595Z"
   },
   {
    "duration": 12,
    "start_time": "2025-05-08T05:09:17.326Z"
   },
   {
    "duration": 24,
    "start_time": "2025-05-08T05:09:30.054Z"
   },
   {
    "duration": 7,
    "start_time": "2025-05-08T05:12:50.699Z"
   },
   {
    "duration": 4,
    "start_time": "2025-05-08T05:13:05.347Z"
   },
   {
    "duration": 4,
    "start_time": "2025-05-08T05:13:19.016Z"
   },
   {
    "duration": 4,
    "start_time": "2025-05-08T05:13:57.867Z"
   },
   {
    "duration": 4,
    "start_time": "2025-05-08T05:14:12.273Z"
   },
   {
    "duration": 7,
    "start_time": "2025-05-08T05:15:16.197Z"
   },
   {
    "duration": 20,
    "start_time": "2025-05-08T05:15:32.566Z"
   },
   {
    "duration": 20,
    "start_time": "2025-05-08T05:19:21.174Z"
   },
   {
    "duration": 8,
    "start_time": "2025-05-08T05:21:24.971Z"
   },
   {
    "duration": 13,
    "start_time": "2025-05-08T05:21:44.529Z"
   },
   {
    "duration": 9,
    "start_time": "2025-05-08T05:25:45.533Z"
   },
   {
    "duration": 425,
    "start_time": "2025-05-08T05:33:24.238Z"
   },
   {
    "duration": 9,
    "start_time": "2025-05-08T05:36:38.484Z"
   },
   {
    "duration": 362,
    "start_time": "2025-05-08T05:37:22.611Z"
   },
   {
    "duration": 379,
    "start_time": "2025-05-08T05:41:05.900Z"
   },
   {
    "duration": 292,
    "start_time": "2025-05-08T05:50:23.725Z"
   },
   {
    "duration": 308,
    "start_time": "2025-05-08T05:50:43.390Z"
   },
   {
    "duration": 332,
    "start_time": "2025-05-08T05:52:23.784Z"
   },
   {
    "duration": 110,
    "start_time": "2025-05-08T05:58:26.857Z"
   },
   {
    "duration": 131,
    "start_time": "2025-05-08T05:58:43.047Z"
   },
   {
    "duration": 6,
    "start_time": "2025-05-08T05:59:11.745Z"
   },
   {
    "duration": 234,
    "start_time": "2025-05-08T05:59:43.726Z"
   },
   {
    "duration": 503,
    "start_time": "2025-05-08T06:00:49.252Z"
   },
   {
    "duration": 467,
    "start_time": "2025-05-08T06:01:37.403Z"
   },
   {
    "duration": 463,
    "start_time": "2025-05-08T06:01:49.201Z"
   },
   {
    "duration": 451,
    "start_time": "2025-05-08T06:02:07.000Z"
   },
   {
    "duration": 446,
    "start_time": "2025-05-08T06:03:38.703Z"
   },
   {
    "duration": 391,
    "start_time": "2025-05-08T06:03:55.857Z"
   },
   {
    "duration": 15,
    "start_time": "2025-05-08T06:06:38.096Z"
   },
   {
    "duration": 3,
    "start_time": "2025-05-08T06:07:05.567Z"
   },
   {
    "duration": 4,
    "start_time": "2025-05-08T06:08:02.649Z"
   },
   {
    "duration": 3,
    "start_time": "2025-05-08T06:08:35.551Z"
   },
   {
    "duration": 4,
    "start_time": "2025-05-08T06:08:56.026Z"
   },
   {
    "duration": 233,
    "start_time": "2025-05-08T06:09:34.690Z"
   },
   {
    "duration": 225,
    "start_time": "2025-05-08T06:10:22.916Z"
   },
   {
    "duration": 166,
    "start_time": "2025-05-08T06:10:32.376Z"
   },
   {
    "duration": 2577,
    "start_time": "2025-05-09T02:50:24.261Z"
   },
   {
    "duration": 219,
    "start_time": "2025-05-09T02:50:26.840Z"
   },
   {
    "duration": 9,
    "start_time": "2025-05-09T02:50:27.061Z"
   },
   {
    "duration": 9,
    "start_time": "2025-05-09T02:50:27.073Z"
   },
   {
    "duration": 9,
    "start_time": "2025-05-09T02:50:27.083Z"
   },
   {
    "duration": 10,
    "start_time": "2025-05-09T02:50:27.307Z"
   },
   {
    "duration": 10,
    "start_time": "2025-05-09T02:50:27.485Z"
   },
   {
    "duration": 12,
    "start_time": "2025-05-09T02:50:28.183Z"
   },
   {
    "duration": 16,
    "start_time": "2025-05-09T02:50:29.253Z"
   },
   {
    "duration": 9,
    "start_time": "2025-05-09T02:50:29.413Z"
   },
   {
    "duration": 90,
    "start_time": "2025-05-09T02:50:30.602Z"
   },
   {
    "duration": 21,
    "start_time": "2025-05-09T02:50:31.821Z"
   },
   {
    "duration": 12,
    "start_time": "2025-05-09T02:50:33.305Z"
   },
   {
    "duration": 7,
    "start_time": "2025-05-09T02:50:33.501Z"
   },
   {
    "duration": 53,
    "start_time": "2025-05-09T02:50:34.853Z"
   },
   {
    "duration": 15,
    "start_time": "2025-05-09T02:50:35.519Z"
   },
   {
    "duration": 14,
    "start_time": "2025-05-09T02:50:35.990Z"
   },
   {
    "duration": 9,
    "start_time": "2025-05-09T02:50:36.401Z"
   },
   {
    "duration": 73,
    "start_time": "2025-05-09T02:50:37.333Z"
   },
   {
    "duration": 17,
    "start_time": "2025-05-09T02:50:37.996Z"
   },
   {
    "duration": 7,
    "start_time": "2025-05-09T02:50:38.662Z"
   },
   {
    "duration": 25,
    "start_time": "2025-05-09T02:50:39.214Z"
   },
   {
    "duration": 22,
    "start_time": "2025-05-09T02:50:40.271Z"
   },
   {
    "duration": 16,
    "start_time": "2025-05-09T02:50:40.935Z"
   },
   {
    "duration": 16,
    "start_time": "2025-05-09T02:50:41.900Z"
   },
   {
    "duration": 17,
    "start_time": "2025-05-09T02:50:43.451Z"
   },
   {
    "duration": 13,
    "start_time": "2025-05-09T02:50:44.220Z"
   },
   {
    "duration": 17,
    "start_time": "2025-05-09T02:50:45.751Z"
   },
   {
    "duration": 56,
    "start_time": "2025-05-09T02:50:46.926Z"
   },
   {
    "duration": 15,
    "start_time": "2025-05-09T02:51:06.007Z"
   },
   {
    "duration": 12,
    "start_time": "2025-05-09T02:51:12.249Z"
   },
   {
    "duration": 15,
    "start_time": "2025-05-09T02:51:17.404Z"
   },
   {
    "duration": 9,
    "start_time": "2025-05-09T02:51:23.630Z"
   },
   {
    "duration": 369,
    "start_time": "2025-05-09T02:51:28.459Z"
   },
   {
    "duration": 423,
    "start_time": "2025-05-09T02:51:29.622Z"
   },
   {
    "duration": 4,
    "start_time": "2025-05-09T02:51:33.399Z"
   },
   {
    "duration": 181,
    "start_time": "2025-05-09T02:51:34.948Z"
   },
   {
    "duration": 521,
    "start_time": "2025-05-09T03:15:37.527Z"
   },
   {
    "duration": 428,
    "start_time": "2025-05-09T03:15:55.905Z"
   },
   {
    "duration": 460,
    "start_time": "2025-05-09T03:16:11.562Z"
   },
   {
    "duration": 438,
    "start_time": "2025-05-09T03:16:22.721Z"
   },
   {
    "duration": 435,
    "start_time": "2025-05-09T03:16:32.809Z"
   },
   {
    "duration": 572,
    "start_time": "2025-05-09T03:17:05.040Z"
   },
   {
    "duration": 463,
    "start_time": "2025-05-09T03:17:24.311Z"
   },
   {
    "duration": 457,
    "start_time": "2025-05-09T03:17:31.514Z"
   },
   {
    "duration": 437,
    "start_time": "2025-05-09T03:17:44.652Z"
   },
   {
    "duration": 468,
    "start_time": "2025-05-09T03:17:55.712Z"
   },
   {
    "duration": 486,
    "start_time": "2025-05-09T03:18:06.902Z"
   },
   {
    "duration": 607,
    "start_time": "2025-05-09T03:18:25.943Z"
   },
   {
    "duration": 596,
    "start_time": "2025-05-09T03:18:36.458Z"
   },
   {
    "duration": 509,
    "start_time": "2025-05-09T03:19:07.311Z"
   },
   {
    "duration": 478,
    "start_time": "2025-05-09T03:19:19.416Z"
   },
   {
    "duration": 513,
    "start_time": "2025-05-09T03:19:28.727Z"
   },
   {
    "duration": 550,
    "start_time": "2025-05-09T03:19:37.439Z"
   },
   {
    "duration": 575,
    "start_time": "2025-05-09T03:19:58.200Z"
   },
   {
    "duration": 507,
    "start_time": "2025-05-09T03:20:11.538Z"
   },
   {
    "duration": 522,
    "start_time": "2025-05-09T03:20:42.704Z"
   },
   {
    "duration": 526,
    "start_time": "2025-05-09T03:21:36.229Z"
   },
   {
    "duration": 406,
    "start_time": "2025-05-09T03:22:57.960Z"
   },
   {
    "duration": 361,
    "start_time": "2025-05-09T03:23:37.824Z"
   },
   {
    "duration": 303,
    "start_time": "2025-05-09T03:24:46.483Z"
   },
   {
    "duration": 253,
    "start_time": "2025-05-09T03:25:00.725Z"
   },
   {
    "duration": 299,
    "start_time": "2025-05-09T03:25:09.174Z"
   },
   {
    "duration": 165,
    "start_time": "2025-05-09T03:25:25.015Z"
   },
   {
    "duration": 1609,
    "start_time": "2025-05-09T03:25:32.576Z"
   },
   {
    "duration": 166,
    "start_time": "2025-05-09T03:25:41.651Z"
   },
   {
    "duration": 175,
    "start_time": "2025-05-09T03:26:01.445Z"
   },
   {
    "duration": 176,
    "start_time": "2025-05-09T03:26:07.031Z"
   },
   {
    "duration": 188,
    "start_time": "2025-05-09T03:26:19.482Z"
   },
   {
    "duration": 181,
    "start_time": "2025-05-09T03:26:42.806Z"
   },
   {
    "duration": 170,
    "start_time": "2025-05-09T03:27:32.295Z"
   },
   {
    "duration": 177,
    "start_time": "2025-05-09T03:27:51.798Z"
   },
   {
    "duration": 159,
    "start_time": "2025-05-09T03:28:08.503Z"
   },
   {
    "duration": 127,
    "start_time": "2025-05-09T03:29:16.117Z"
   },
   {
    "duration": 7,
    "start_time": "2025-05-09T03:30:24.797Z"
   },
   {
    "duration": 157,
    "start_time": "2025-05-09T03:31:07.941Z"
   },
   {
    "duration": 159,
    "start_time": "2025-05-09T03:31:14.450Z"
   },
   {
    "duration": 167,
    "start_time": "2025-05-09T03:32:58.045Z"
   },
   {
    "duration": 168,
    "start_time": "2025-05-09T03:33:22.283Z"
   },
   {
    "duration": 158,
    "start_time": "2025-05-09T03:33:34.177Z"
   },
   {
    "duration": 226,
    "start_time": "2025-05-09T03:33:49.558Z"
   },
   {
    "duration": 323,
    "start_time": "2025-05-09T03:33:58.257Z"
   },
   {
    "duration": 163,
    "start_time": "2025-05-09T03:35:24.661Z"
   },
   {
    "duration": 171,
    "start_time": "2025-05-09T03:35:33.271Z"
   },
   {
    "duration": 172,
    "start_time": "2025-05-09T03:35:40.624Z"
   },
   {
    "duration": 187,
    "start_time": "2025-05-09T03:35:49.318Z"
   },
   {
    "duration": 303,
    "start_time": "2025-05-09T03:37:47.486Z"
   },
   {
    "duration": 170,
    "start_time": "2025-05-09T03:38:32.450Z"
   },
   {
    "duration": 286,
    "start_time": "2025-05-09T03:43:52.829Z"
   },
   {
    "duration": 274,
    "start_time": "2025-05-09T03:44:26.022Z"
   },
   {
    "duration": 297,
    "start_time": "2025-05-09T03:45:06.142Z"
   },
   {
    "duration": 272,
    "start_time": "2025-05-09T03:45:37.477Z"
   },
   {
    "duration": 429,
    "start_time": "2025-05-09T03:45:46.162Z"
   },
   {
    "duration": 288,
    "start_time": "2025-05-09T03:45:54.403Z"
   },
   {
    "duration": 269,
    "start_time": "2025-05-09T03:46:04.708Z"
   },
   {
    "duration": 270,
    "start_time": "2025-05-09T03:46:13.392Z"
   },
   {
    "duration": 285,
    "start_time": "2025-05-09T03:46:19.493Z"
   },
   {
    "duration": 258,
    "start_time": "2025-05-09T03:46:30.622Z"
   },
   {
    "duration": 274,
    "start_time": "2025-05-09T03:46:38.466Z"
   },
   {
    "duration": 260,
    "start_time": "2025-05-09T03:46:45.035Z"
   },
   {
    "duration": 291,
    "start_time": "2025-05-09T03:47:35.329Z"
   },
   {
    "duration": 442,
    "start_time": "2025-05-09T03:47:52.309Z"
   },
   {
    "duration": 299,
    "start_time": "2025-05-09T03:48:14.458Z"
   },
   {
    "duration": 310,
    "start_time": "2025-05-09T03:48:28.755Z"
   },
   {
    "duration": 352,
    "start_time": "2025-05-09T03:48:44.717Z"
   },
   {
    "duration": 198,
    "start_time": "2025-05-09T03:49:01.434Z"
   },
   {
    "duration": 305,
    "start_time": "2025-05-09T03:49:29.428Z"
   },
   {
    "duration": 303,
    "start_time": "2025-05-09T03:49:42.508Z"
   },
   {
    "duration": 334,
    "start_time": "2025-05-09T03:50:09.825Z"
   },
   {
    "duration": 481,
    "start_time": "2025-05-09T03:50:22.355Z"
   },
   {
    "duration": 365,
    "start_time": "2025-05-09T03:50:28.316Z"
   },
   {
    "duration": 388,
    "start_time": "2025-05-09T03:50:59.252Z"
   },
   {
    "duration": 377,
    "start_time": "2025-05-09T03:51:25.770Z"
   },
   {
    "duration": 4,
    "start_time": "2025-05-09T04:00:51.239Z"
   },
   {
    "duration": 202,
    "start_time": "2025-05-09T04:00:54.541Z"
   },
   {
    "duration": 4,
    "start_time": "2025-05-09T04:15:48.941Z"
   },
   {
    "duration": 5,
    "start_time": "2025-05-09T04:21:50.782Z"
   },
   {
    "duration": 4,
    "start_time": "2025-05-09T04:22:01.481Z"
   },
   {
    "duration": 4,
    "start_time": "2025-05-09T04:22:13.425Z"
   },
   {
    "duration": 3,
    "start_time": "2025-05-09T04:24:13.199Z"
   },
   {
    "duration": 179,
    "start_time": "2025-05-09T04:24:16.646Z"
   },
   {
    "duration": 99,
    "start_time": "2025-05-09T04:24:46.266Z"
   },
   {
    "duration": 187,
    "start_time": "2025-05-09T04:24:54.341Z"
   },
   {
    "duration": 277,
    "start_time": "2025-05-09T04:25:17.451Z"
   },
   {
    "duration": 154,
    "start_time": "2025-05-09T04:25:43.394Z"
   },
   {
    "duration": 16,
    "start_time": "2025-05-09T04:27:20.605Z"
   },
   {
    "duration": 16,
    "start_time": "2025-05-09T04:28:00.041Z"
   },
   {
    "duration": 440,
    "start_time": "2025-05-09T04:33:00.761Z"
   },
   {
    "duration": 17,
    "start_time": "2025-05-09T04:33:22.297Z"
   },
   {
    "duration": 6,
    "start_time": "2025-05-09T04:33:56.387Z"
   },
   {
    "duration": 7,
    "start_time": "2025-05-09T04:34:33.163Z"
   },
   {
    "duration": 7,
    "start_time": "2025-05-09T04:34:47.470Z"
   },
   {
    "duration": 8,
    "start_time": "2025-05-09T04:35:16.162Z"
   },
   {
    "duration": 7,
    "start_time": "2025-05-09T04:36:36.573Z"
   },
   {
    "duration": 6,
    "start_time": "2025-05-09T04:37:34.802Z"
   },
   {
    "duration": 7,
    "start_time": "2025-05-09T04:38:32.204Z"
   },
   {
    "duration": 629,
    "start_time": "2025-05-09T04:41:13.134Z"
   },
   {
    "duration": 187,
    "start_time": "2025-05-09T04:42:03.099Z"
   },
   {
    "duration": 196,
    "start_time": "2025-05-09T04:44:38.544Z"
   },
   {
    "duration": 199,
    "start_time": "2025-05-09T04:44:57.681Z"
   },
   {
    "duration": 191,
    "start_time": "2025-05-09T04:45:15.263Z"
   },
   {
    "duration": 185,
    "start_time": "2025-05-09T04:45:54.147Z"
   },
   {
    "duration": 259,
    "start_time": "2025-05-09T04:48:18.624Z"
   },
   {
    "duration": 253,
    "start_time": "2025-05-09T04:49:52.517Z"
   },
   {
    "duration": 9,
    "start_time": "2025-05-09T04:53:25.526Z"
   },
   {
    "duration": 9,
    "start_time": "2025-05-09T04:53:48.780Z"
   },
   {
    "duration": 248,
    "start_time": "2025-05-09T04:54:17.215Z"
   },
   {
    "duration": 251,
    "start_time": "2025-05-09T04:54:24.487Z"
   },
   {
    "duration": 180,
    "start_time": "2025-05-09T04:54:33.878Z"
   },
   {
    "duration": 255,
    "start_time": "2025-05-09T04:54:43.875Z"
   },
   {
    "duration": 212,
    "start_time": "2025-05-09T04:56:37.041Z"
   },
   {
    "duration": 193,
    "start_time": "2025-05-09T04:57:19.550Z"
   },
   {
    "duration": 207,
    "start_time": "2025-05-09T04:58:31.922Z"
   },
   {
    "duration": 591,
    "start_time": "2025-05-09T05:06:14.599Z"
   },
   {
    "duration": 392,
    "start_time": "2025-05-09T05:08:11.126Z"
   },
   {
    "duration": 9,
    "start_time": "2025-05-09T05:08:25.051Z"
   },
   {
    "duration": 225,
    "start_time": "2025-05-09T05:08:40.116Z"
   },
   {
    "duration": 12,
    "start_time": "2025-05-09T05:12:11.253Z"
   },
   {
    "duration": 13,
    "start_time": "2025-05-09T05:12:22.408Z"
   },
   {
    "duration": 388,
    "start_time": "2025-05-09T05:14:34.125Z"
   },
   {
    "duration": 463,
    "start_time": "2025-05-09T05:15:52.425Z"
   },
   {
    "duration": 352,
    "start_time": "2025-05-09T05:17:06.141Z"
   },
   {
    "duration": 446,
    "start_time": "2025-05-09T05:17:20.574Z"
   },
   {
    "duration": 387,
    "start_time": "2025-05-09T05:18:23.606Z"
   },
   {
    "duration": 402,
    "start_time": "2025-05-09T05:19:34.400Z"
   },
   {
    "duration": 718,
    "start_time": "2025-05-09T05:20:04.065Z"
   },
   {
    "duration": 340,
    "start_time": "2025-05-09T05:20:38.526Z"
   },
   {
    "duration": 352,
    "start_time": "2025-05-09T05:21:21.994Z"
   },
   {
    "duration": 376,
    "start_time": "2025-05-09T05:22:14.374Z"
   },
   {
    "duration": 380,
    "start_time": "2025-05-09T05:23:41.273Z"
   },
   {
    "duration": 366,
    "start_time": "2025-05-09T05:24:31.409Z"
   },
   {
    "duration": 339,
    "start_time": "2025-05-09T05:25:38.824Z"
   },
   {
    "duration": 354,
    "start_time": "2025-05-09T05:27:10.349Z"
   },
   {
    "duration": 399,
    "start_time": "2025-05-09T05:28:53.821Z"
   },
   {
    "duration": 461,
    "start_time": "2025-05-09T05:29:37.988Z"
   },
   {
    "duration": 697,
    "start_time": "2025-05-09T05:30:00.650Z"
   },
   {
    "duration": 391,
    "start_time": "2025-05-09T05:30:16.457Z"
   },
   {
    "duration": 404,
    "start_time": "2025-05-09T05:30:32.705Z"
   },
   {
    "duration": 399,
    "start_time": "2025-05-09T05:31:01.374Z"
   },
   {
    "duration": 379,
    "start_time": "2025-05-09T05:31:34.368Z"
   },
   {
    "duration": 348,
    "start_time": "2025-05-09T05:31:40.939Z"
   },
   {
    "duration": 486,
    "start_time": "2025-05-09T05:31:56.875Z"
   },
   {
    "duration": 1132,
    "start_time": "2025-05-09T05:32:09.151Z"
   },
   {
    "duration": 357,
    "start_time": "2025-05-09T05:32:19.550Z"
   },
   {
    "duration": 368,
    "start_time": "2025-05-09T05:32:28.269Z"
   },
   {
    "duration": 322,
    "start_time": "2025-05-09T05:32:43.229Z"
   },
   {
    "duration": 350,
    "start_time": "2025-05-09T05:32:54.615Z"
   },
   {
    "duration": 351,
    "start_time": "2025-05-09T05:33:15.638Z"
   },
   {
    "duration": 401,
    "start_time": "2025-05-09T05:33:35.914Z"
   },
   {
    "duration": 362,
    "start_time": "2025-05-09T05:34:17.481Z"
   },
   {
    "duration": 666,
    "start_time": "2025-05-09T05:35:17.312Z"
   },
   {
    "duration": 374,
    "start_time": "2025-05-09T05:36:17.045Z"
   },
   {
    "duration": 371,
    "start_time": "2025-05-09T05:38:53.904Z"
   },
   {
    "duration": 461,
    "start_time": "2025-05-09T05:39:45.124Z"
   },
   {
    "duration": 428,
    "start_time": "2025-05-09T05:40:20.113Z"
   },
   {
    "duration": 15,
    "start_time": "2025-05-09T05:41:17.608Z"
   },
   {
    "duration": 379,
    "start_time": "2025-05-09T05:42:23.252Z"
   },
   {
    "duration": 374,
    "start_time": "2025-05-09T05:44:43.027Z"
   },
   {
    "duration": 444,
    "start_time": "2025-05-09T05:45:08.120Z"
   },
   {
    "duration": 378,
    "start_time": "2025-05-09T05:46:50.486Z"
   },
   {
    "duration": 706,
    "start_time": "2025-05-09T05:47:48.482Z"
   },
   {
    "duration": 394,
    "start_time": "2025-05-09T05:48:20.117Z"
   },
   {
    "duration": 428,
    "start_time": "2025-05-09T05:48:36.299Z"
   },
   {
    "duration": 365,
    "start_time": "2025-05-09T05:48:55.695Z"
   },
   {
    "duration": 392,
    "start_time": "2025-05-09T05:49:10.865Z"
   },
   {
    "duration": 366,
    "start_time": "2025-05-09T05:49:21.151Z"
   },
   {
    "duration": 383,
    "start_time": "2025-05-09T05:49:42.964Z"
   },
   {
    "duration": 372,
    "start_time": "2025-05-09T05:50:03.102Z"
   },
   {
    "duration": 374,
    "start_time": "2025-05-09T05:50:33.000Z"
   },
   {
    "duration": 698,
    "start_time": "2025-05-09T05:50:43.311Z"
   },
   {
    "duration": 408,
    "start_time": "2025-05-09T05:51:04.343Z"
   },
   {
    "duration": 178,
    "start_time": "2025-05-09T05:52:44.377Z"
   },
   {
    "duration": 349,
    "start_time": "2025-05-09T05:56:55.969Z"
   },
   {
    "duration": 338,
    "start_time": "2025-05-09T05:57:02.086Z"
   },
   {
    "duration": 18,
    "start_time": "2025-05-09T06:09:24.799Z"
   },
   {
    "duration": 5,
    "start_time": "2025-05-09T06:09:33.271Z"
   },
   {
    "duration": 4,
    "start_time": "2025-05-09T06:12:00.990Z"
   },
   {
    "duration": 5,
    "start_time": "2025-05-09T06:24:19.053Z"
   },
   {
    "duration": 13,
    "start_time": "2025-05-09T06:25:58.753Z"
   },
   {
    "duration": 12,
    "start_time": "2025-05-09T06:27:00.549Z"
   },
   {
    "duration": 15,
    "start_time": "2025-05-09T06:28:10.095Z"
   },
   {
    "duration": 15,
    "start_time": "2025-05-09T06:28:22.939Z"
   },
   {
    "duration": 13,
    "start_time": "2025-05-09T06:38:24.050Z"
   },
   {
    "duration": 14,
    "start_time": "2025-05-09T06:38:33.043Z"
   },
   {
    "duration": 15,
    "start_time": "2025-05-09T06:39:32.975Z"
   },
   {
    "duration": 15,
    "start_time": "2025-05-09T06:39:55.196Z"
   }
  ],
  "colab": {
   "provenance": []
  },
  "kernelspec": {
   "display_name": "Python 3 (ipykernel)",
   "language": "python",
   "name": "python3"
  },
  "language_info": {
   "codemirror_mode": {
    "name": "ipython",
    "version": 3
   },
   "file_extension": ".py",
   "mimetype": "text/x-python",
   "name": "python",
   "nbconvert_exporter": "python",
   "pygments_lexer": "ipython3",
   "version": "3.9.22"
  },
  "toc": {
   "base_numbering": 1,
   "nav_menu": {},
   "number_sections": true,
   "sideBar": true,
   "skip_h1_title": false,
   "title_cell": "Table of Contents",
   "title_sidebar": "Contents",
   "toc_cell": false,
   "toc_position": {},
   "toc_section_display": true,
   "toc_window_display": false
  }
 },
 "nbformat": 4,
 "nbformat_minor": 4
}
